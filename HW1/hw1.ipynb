{
 "cells": [
  {
   "cell_type": "markdown",
   "metadata": {},
   "source": [
    "## Word Count (3pt)\n",
    "Write a Spark script that outputs the count number of each word. In the implementation, you need to transform all words as lower case and filter out all the punctuations.\n",
    "Run your program over the input data ‘pg100.txt’\n",
    "\n",
    "What to submit: Submit the printout of the output file and the source code."
   ]
  },
  {
   "cell_type": "code",
   "execution_count": null,
   "metadata": {},
   "outputs": [],
   "source": []
  },
  {
   "cell_type": "markdown",
   "metadata": {},
   "source": [
    "# 1.Install\n",
    "\n",
    "os: ubuntu\n",
    "\n",
    "python: 2.7\n",
    "\n",
    "spark: 2.3\n",
    "\n",
    "```\n",
    "# get image\n",
    "docker pull bde2020/spark-master\n",
    "\n",
    "# start a container in backstage and mapping local file to container\n",
    "docker run --name spark-master -h spark-master -e ENABLE_INIT_DAEMON=false -d -v /Users/haixuanguo/Documents/usu/Spring2020/cs6665:/homework bde2020/spark-master:2.3.0-hadoop2.7 \n",
    "\n",
    "# run it\n",
    "docker exec -it spark-master bash\n",
    "\n",
    "# interpreter in 【spark】 folder\n",
    "# run spark, default scala\n",
    "/spark/bin/spark-shell\n",
    "\n",
    "# run pyspark\n",
    "/spark/bin/pyspark\n",
    "\n",
    "\n",
    "```"
   ]
  },
  {
   "cell_type": "markdown",
   "metadata": {},
   "source": [
    "# 2. count"
   ]
  },
  {
   "cell_type": "code",
   "execution_count": 1,
   "metadata": {},
   "outputs": [
    {
     "ename": "IndentationError",
     "evalue": "unexpected indent (<ipython-input-1-a6414a93681e>, line 9)",
     "output_type": "error",
     "traceback": [
      "\u001b[1;36m  File \u001b[1;32m\"<ipython-input-1-a6414a93681e>\"\u001b[1;36m, line \u001b[1;32m9\u001b[0m\n\u001b[1;33m    .filter(lambda l: l!='')\u001b[0m\n\u001b[1;37m    ^\u001b[0m\n\u001b[1;31mIndentationError\u001b[0m\u001b[1;31m:\u001b[0m unexpected indent\n"
     ]
    }
   ],
   "source": [
    "import string\n",
    "\n",
    "lines = sc.textFile(\"../homework/HW1/pg100.txt\")\n",
    "\n",
    "def transform(text):\n",
    "    return str(text).lower().translate(None, string.punctuation)\n",
    "\n",
    "count = lines.flatMap(lambda line: transform(line).split(\" \"))\n",
    "    .filter(lambda l: l!='')\n",
    "    .map(lambda word: (word,1))\n",
    "    .reduceByKey(lambda x,y: x+y)\n",
    "    \n",
    "count.take(10)\n",
    "count.saveAsTextFile(\"output.csv\")\n",
    "\n"
   ]
  },
  {
   "cell_type": "code",
   "execution_count": null,
   "metadata": {},
   "outputs": [],
   "source": []
  }
 ],
 "metadata": {
  "kernelspec": {
   "display_name": "Python 3",
   "language": "python",
   "name": "python3"
  },
  "language_info": {
   "codemirror_mode": {
    "name": "ipython",
    "version": 3
   },
   "file_extension": ".py",
   "mimetype": "text/x-python",
   "name": "python",
   "nbconvert_exporter": "python",
   "pygments_lexer": "ipython3",
   "version": "3.7.6"
  }
 },
 "nbformat": 4,
 "nbformat_minor": 2
}
