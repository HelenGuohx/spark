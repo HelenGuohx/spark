{
 "cells": [
  {
   "cell_type": "code",
   "execution_count": 1,
   "metadata": {},
   "outputs": [],
   "source": [
    "from pyspark import SparkContext\n",
    "from pyspark import SparkConf\n"
   ]
  },
  {
   "cell_type": "code",
   "execution_count": 2,
   "metadata": {},
   "outputs": [],
   "source": [
    "from itertools import chain, combinations\n",
    "import copy"
   ]
  },
  {
   "cell_type": "code",
   "execution_count": 3,
   "metadata": {},
   "outputs": [],
   "source": [
    "conf = SparkConf().setAppName(\"apriori\")\n",
    "sc = SparkContext(conf=conf)"
   ]
  },
  {
   "cell_type": "code",
   "execution_count": 18,
   "metadata": {},
   "outputs": [],
   "source": [
    "S = 100\n",
    "freqSetDict = {}"
   ]
  },
  {
   "cell_type": "code",
   "execution_count": 5,
   "metadata": {},
   "outputs": [],
   "source": [
    "text = sc.textFile('browsing.txt')"
   ]
  },
  {
   "cell_type": "code",
   "execution_count": 6,
   "metadata": {},
   "outputs": [
    {
     "data": {
      "text/plain": [
       "['FRO11987 ELE17451 ELE89019 SNA90258 GRO99222 ',\n",
       " 'GRO99222 GRO12298 FRO12685 ELE91550 SNA11465 ELE26917 ELE52966 FRO90334 SNA30755 ELE17451 FRO84225 SNA80192 ',\n",
       " 'ELE17451 GRO73461 DAI22896 SNA99873 FRO86643 ',\n",
       " 'ELE17451 ELE37798 FRO86643 GRO56989 ELE23393 SNA11465 ',\n",
       " 'ELE17451 SNA69641 FRO86643 FRO78087 SNA11465 GRO39357 ELE28573 ELE11375 DAI54444 ']"
      ]
     },
     "execution_count": 6,
     "metadata": {},
     "output_type": "execute_result"
    }
   ],
   "source": [
    "text.take(5)"
   ]
  },
  {
   "cell_type": "markdown",
   "metadata": {},
   "source": [
    "# k = 1"
   ]
  },
  {
   "cell_type": "code",
   "execution_count": 7,
   "metadata": {},
   "outputs": [],
   "source": [
    "candSetCount1 = text.flatMap(lambda t: t.strip().split(' ')) \\\n",
    "    .map(lambda item: (item, 1)).reduceByKey(lambda x,y: x+y )"
   ]
  },
  {
   "cell_type": "code",
   "execution_count": 14,
   "metadata": {},
   "outputs": [],
   "source": [
    "# get frequent set\n",
    "freqSetCount1 = candSetCount1.filter(lambda x: x[1] >= S)"
   ]
  },
  {
   "cell_type": "code",
   "execution_count": 15,
   "metadata": {},
   "outputs": [],
   "source": [
    "freqSet1 = freqSetCount1.map(lambda x: x[0])"
   ]
  },
  {
   "cell_type": "code",
   "execution_count": 19,
   "metadata": {},
   "outputs": [],
   "source": [
    "freqSetDict.update(freqSetCount1.collect())"
   ]
  },
  {
   "cell_type": "code",
   "execution_count": 109,
   "metadata": {},
   "outputs": [],
   "source": [
    "# generate association rules\n",
    "# compute confidence score\n",
    "\n",
    "def subsets(arr):\n",
    "    \"\"\" Returns non empty subsets of arr\"\"\"\n",
    "    return chain(*[combinations(arr, i + 1) for i, a in enumerate(arr)])\n",
    "\n",
    "def getAssociationRule(item, suppDict,k):\n",
    "    \"\"\"\n",
    "    item: tuple, k-item frequent \n",
    "    suppDict: itemSuppDict\n",
    "    return rules: Association Rule\n",
    "    \"\"\"\n",
    "    _item = set(item)\n",
    "    rules = []\n",
    "    _subsets = map(frozenset, [x for x in subsets(_item) if len(x) < k])\n",
    "    for i in _subsets:\n",
    "        rightItem = i\n",
    "        leftItem = tuple(_item.difference(rightItem))\n",
    "        leftItem = leftItem if len(leftItem) > 1 else leftItem[0]\n",
    "        conf = suppDict[item]/suppDict[leftItem]\n",
    "        r = ''.join(leftItem) + '|' + ','.join(rightItem)\n",
    "        rules.append((r, conf))\n",
    "        print(\"item\", item)\n",
    "        print(\"leftItem\",leftItem)\n",
    "    return rules\n",
    "            "
   ]
  },
  {
   "cell_type": "code",
   "execution_count": 23,
   "metadata": {},
   "outputs": [],
   "source": [
    "textlist = text.map(lambda x: x.strip().split(' '))"
   ]
  },
  {
   "cell_type": "markdown",
   "metadata": {},
   "source": [
    "# k = 2\n"
   ]
  },
  {
   "cell_type": "code",
   "execution_count": 25,
   "metadata": {},
   "outputs": [],
   "source": [
    "# k = 2\n",
    "candSet2 = freqSet1.cartesian(freqSet1).filter(lambda x: x[0] < x[1] ) "
   ]
  },
  {
   "cell_type": "code",
   "execution_count": 26,
   "metadata": {},
   "outputs": [],
   "source": [
    "# count support\n",
    "candSetCount22 = candSet2.cartesian(textlist) \\\n",
    "#             .map(lambda item: (item[0],1) if set(item[0]).issubset(item[1]) else None) \\\n",
    "#             .filter(lambda x: x != None) \\\n",
    "#             .reduceByKey(lambda x,y: x+y) "
   ]
  },
  {
   "cell_type": "code",
   "execution_count": 27,
   "metadata": {},
   "outputs": [],
   "source": [
    "candSetCount2 = candSetCount22.map(lambda item: (item[0],1) if set(item[0]).issubset(item[1]) else None) \\\n",
    "            .filter(lambda x: x != None) \\\n",
    "            .reduceByKey(lambda x,y: x+y) "
   ]
  },
  {
   "cell_type": "code",
   "execution_count": 28,
   "metadata": {},
   "outputs": [],
   "source": [
    "freqSetCount2 = candSetCount2.filter(lambda x: x[1] >= S)"
   ]
  },
  {
   "cell_type": "code",
   "execution_count": 29,
   "metadata": {},
   "outputs": [],
   "source": [
    "# update freqSetDict\n",
    "freqSetDict.update(freqSetCount2.collect())"
   ]
  },
  {
   "cell_type": "code",
   "execution_count": 30,
   "metadata": {},
   "outputs": [],
   "source": [
    "freqSet2 = freqSetCount2.map(lambda x: x[0])"
   ]
  },
  {
   "cell_type": "code",
   "execution_count": 31,
   "metadata": {},
   "outputs": [],
   "source": [
    "rules2 = freqSet2.flatMap(lambda x: getAssociationRule(x, freqSetDict, 2))"
   ]
  },
  {
   "cell_type": "code",
   "execution_count": 32,
   "metadata": {},
   "outputs": [],
   "source": [
    "# top 5 pairs\n",
    "newRules2 = rules2.sortBy(lambda t: (-t[1],t[0]))"
   ]
  },
  {
   "cell_type": "code",
   "execution_count": 112,
   "metadata": {},
   "outputs": [
    {
     "data": {
      "text/plain": [
       "[('DAI93865|FRO40251', 1.0),\n",
       " ('GRO85051|FRO40251', 0.999176276771005),\n",
       " ('GRO38636|FRO40251', 0.9906542056074766),\n",
       " ('ELE12951|FRO40251', 0.9905660377358491),\n",
       " ('DAI88079|FRO40251', 0.9867256637168141)]"
      ]
     },
     "execution_count": 112,
     "metadata": {},
     "output_type": "execute_result"
    }
   ],
   "source": [
    "newRules2.take(5)"
   ]
  },
  {
   "cell_type": "markdown",
   "metadata": {},
   "source": [
    "# k = 3"
   ]
  },
  {
   "cell_type": "code",
   "execution_count": 40,
   "metadata": {},
   "outputs": [],
   "source": [
    "candSet = freqSet2.cartesian(freqSet2).filter(lambda x: x[0] < x[1] ) "
   ]
  },
  {
   "cell_type": "code",
   "execution_count": 41,
   "metadata": {},
   "outputs": [
    {
     "data": {
      "text/plain": [
       "[(('GRO73461', 'SNA72163'), ('GRO73461', 'SNA80324')),\n",
       " (('GRO73461', 'SNA72163'), ('SNA24799', 'SNA55617')),\n",
       " (('GRO73461', 'SNA72163'), ('SNA44190', 'SNA80324')),\n",
       " (('GRO73461', 'SNA72163'), ('SNA45677', 'SNA93860')),\n",
       " (('GRO73461', 'SNA72163'), ('GRO81087', 'SNA45677'))]"
      ]
     },
     "execution_count": 41,
     "metadata": {},
     "output_type": "execute_result"
    }
   ],
   "source": [
    "candSet.take(5)"
   ]
  },
  {
   "cell_type": "code",
   "execution_count": 59,
   "metadata": {},
   "outputs": [],
   "source": [
    "def getCandSet(item, k, freqDict):\n",
    "    t1 = set(item[0])\n",
    "    t2 = set(item[1])\n",
    "    t = t1.union(t2)\n",
    "    if len(t) == k and tuple(t.difference(t1).union(t.difference(t2))) in freqDict:\n",
    "        return t\n",
    "    return None"
   ]
  },
  {
   "cell_type": "code",
   "execution_count": 61,
   "metadata": {},
   "outputs": [
    {
     "data": {
      "text/plain": [
       "[{'GRO73461', 'SNA44190', 'SNA80324'},\n",
       " {'DAI55911', 'GRO73461', 'SNA80324'},\n",
       " {'ELE12792', 'GRO73461', 'SNA80324'},\n",
       " {'ELE11111', 'ELE32164', 'SNA80324'},\n",
       " {'DAI55911', 'ELE32164', 'SNA80324'}]"
      ]
     },
     "execution_count": 61,
     "metadata": {},
     "output_type": "execute_result"
    }
   ],
   "source": [
    "_candSet = candSet.map(lambda x: getCandSet(x,3,freqSetDict)).filter(lambda x: x)\n",
    "_candSet.take(5)"
   ]
  },
  {
   "cell_type": "code",
   "execution_count": 62,
   "metadata": {},
   "outputs": [
    {
     "data": {
      "text/plain": [
       "9246"
      ]
     },
     "execution_count": 62,
     "metadata": {},
     "output_type": "execute_result"
    }
   ],
   "source": [
    "len(_candSet.collect())"
   ]
  },
  {
   "cell_type": "code",
   "execution_count": 74,
   "metadata": {},
   "outputs": [
    {
     "name": "stdout",
     "output_type": "stream",
     "text": [
      "t1 {'SNA80324', 'SNA44190', 'GRO73461'}\n",
      "t2 ['FRO11987', 'ELE17451', 'ELE89019', 'SNA90258', 'GRO99222', 'SNA80324', 'SNA44190', 'GRO73461']\n",
      "true ({'SNA80324', 'SNA44190', 'GRO73461'}, 1)\n"
     ]
    }
   ],
   "source": [
    "def countSupp(item):\n",
    "    t1= item[0]\n",
    "    t2 = item[1]\n",
    "    print(\"t1\",t1)\n",
    "    print(\"t2\",t2)\n",
    "    if t1.issubset(t2):\n",
    "        print(\"true\",(item[0],1))\n",
    "    return None\n",
    "# for x in candSetCount22.take(5):\n",
    "#     countSupp(x)\n",
    "x = ({'SNA80324', 'SNA44190', 'GRO73461'}, ['FRO11987', 'ELE17451', 'ELE89019', 'SNA90258', 'GRO99222','SNA80324', 'SNA44190', 'GRO73461'])\n",
    "countSupp(x)"
   ]
  },
  {
   "cell_type": "code",
   "execution_count": 78,
   "metadata": {},
   "outputs": [
    {
     "data": {
      "text/plain": [
       "[(('SNA80324', 'ELE12792', 'ELE17451'), 55),\n",
       " (('ELE66810', 'ELE32164', 'FRO80039'), 34),\n",
       " (('SNA80324', 'ELE74009', 'GRO30386'), 16),\n",
       " (('SNA80324', 'ELE56788', 'GRO30386'), 15),\n",
       " (('GRO71621', 'DAI85309', 'SNA40784'), 46)]"
      ]
     },
     "execution_count": 78,
     "metadata": {},
     "output_type": "execute_result"
    }
   ],
   "source": [
    "_candSet = candSet.map(lambda x: getCandSet(x,3,freqSetDict)).filter(lambda x: x)\n",
    "_candSet.take(5)\n",
    "candSetCount  = candSetCount22.map(lambda item: (tuple(item[0]),1) if item[0].issubset(item[1]) else None) \\\n",
    "        .filter(lambda x: x) \\\n",
    "        .reduceByKey(lambda x,y: x+y) \n",
    "candSetCount.take(5)"
   ]
  },
  {
   "cell_type": "code",
   "execution_count": 79,
   "metadata": {},
   "outputs": [
    {
     "data": {
      "text/plain": [
       "[(('DAI75645', 'SNA80324', 'SNA90094'), 231),\n",
       " (('DAI62779', 'GRO15017', 'ELE17451'), 222),\n",
       " (('DAI62779', 'GRO15017', 'ELE26917'), 132),\n",
       " (('FRO78087', 'DAI62779', 'GRO59710'), 114),\n",
       " (('GRO56726', 'DAI62779', 'GRO73461'), 178)]"
      ]
     },
     "execution_count": 79,
     "metadata": {},
     "output_type": "execute_result"
    }
   ],
   "source": [
    "freqSetCount = candSetCount.filter(lambda x: x[1] >= S)\n",
    "freqSetCount.take(5)"
   ]
  },
  {
   "cell_type": "code",
   "execution_count": 81,
   "metadata": {},
   "outputs": [],
   "source": [
    "# update freqSetDict\n",
    "suppDict.update(freqSetCount.collect())"
   ]
  },
  {
   "cell_type": "code",
   "execution_count": 83,
   "metadata": {},
   "outputs": [
    {
     "data": {
      "text/plain": [
       "[('DAI75645', 'SNA80324', 'SNA90094'),\n",
       " ('DAI62779', 'GRO15017', 'ELE17451'),\n",
       " ('DAI62779', 'GRO15017', 'ELE26917'),\n",
       " ('FRO78087', 'DAI62779', 'GRO59710'),\n",
       " ('GRO56726', 'DAI62779', 'GRO73461')]"
      ]
     },
     "execution_count": 83,
     "metadata": {},
     "output_type": "execute_result"
    }
   ],
   "source": [
    "freqSet = freqSetCount.map(lambda x: x[0])\n",
    "freqSet.take(5)"
   ]
  },
  {
   "cell_type": "code",
   "execution_count": 101,
   "metadata": {},
   "outputs": [
    {
     "data": {
      "text/plain": [
       "[('SNA80324SNA90094|DAI75645', 1.5),\n",
       " ('DAI75645SNA90094|SNA80324', 1.0744186046511628),\n",
       " ('DAI75645SNA80324|SNA90094', 0.20442477876106194),\n",
       " ('SNA90094|DAI75645,SNA80324', 0.16618705035971224),\n",
       " ('SNA80324|DAI75645,SNA90094', 0.07588699080157688),\n",
       " ('DAI75645|SNA80324,SNA90094', 0.08442982456140351),\n",
       " ('DAI62779ELE17451|GRO15017', 0.13944723618090452),\n",
       " ('DAI62779GRO15017|ELE17451', 0.5677749360613811),\n",
       " ('ELE17451|DAI62779,GRO15017', 0.05729032258064516),\n",
       " ('DAI62779|GRO15017,ELE17451', 0.03329833508324584),\n",
       " ('GRO15017|DAI62779,ELE17451', 0.17411764705882352),\n",
       " ('DAI62779ELE26917|GRO15017', 0.20307692307692307),\n",
       " ('DAI62779GRO15017|ELE26917', 0.3375959079283887),\n",
       " ('ELE26917|DAI62779,GRO15017', 0.05759162303664921),\n",
       " ('DAI62779|GRO15017,ELE26917', 0.019799010049497526),\n",
       " ('GRO15017|DAI62779,ELE26917', 0.10352941176470588),\n",
       " ('DAI62779GRO59710|FRO78087', 0.20320855614973263),\n",
       " ('FRO78087GRO59710|DAI62779', 0.8507462686567164),\n",
       " ('GRO59710|FRO78087,DAI62779', 0.05688622754491018),\n",
       " ('DAI62779|FRO78087,GRO59710', 0.017099145042747864),\n",
       " ('FRO78087|DAI62779,GRO59710', 0.07446113651208361),\n",
       " ('DAI62779GRO73461|GRO56726', 0.1562774363476734),\n",
       " ('GRO56726GRO73461|DAI62779', 0.5493827160493827),\n",
       " ('GRO73461|GRO56726,DAI62779', 0.049416990560799554),\n",
       " ('DAI62779|GRO56726,GRO73461', 0.026698665066746664),\n",
       " ('GRO56726|DAI62779,GRO73461', 0.09977578475336323),\n",
       " ('DAI62779GRO73461|DAI87448', 0.15452151009657594),\n",
       " ('DAI87448GRO73461|DAI62779', 0.7619047619047619),\n",
       " ('GRO73461|DAI87448,DAI62779', 0.04886174347584675),\n",
       " ('DAI62779|DAI87448,GRO73461', 0.0263986800659967),\n",
       " ('DAI87448|DAI62779,GRO73461', 0.20512820512820512),\n",
       " ('SNA59903SNA72163|ELE17451', 0.4096774193548387),\n",
       " ('ELE17451|SNA59903,SNA72163', 0.0327741935483871),\n",
       " ('SNA72163|SNA59903,ELE17451', 0.11651376146788991),\n",
       " ('SNA59903|SNA72163,ELE17451', 0.1425364758698092),\n",
       " ('DAI62779FRO80039|DAI85309', 0.33454545454545453),\n",
       " ('DAI85309FRO80039|DAI62779', 1.0165745856353592),\n",
       " ('FRO80039|DAI85309,DAI62779', 0.08240035826242723),\n",
       " ('DAI62779|DAI85309,FRO80039', 0.02759862006899655),\n",
       " ('DAI85309|DAI62779,FRO80039', 0.08024422154382904),\n",
       " ('DAI62779ELE17451|SNA59903', 0.12688442211055276),\n",
       " ('ELE17451|SNA59903,DAI62779', 0.05212903225806451),\n",
       " ('DAI62779|SNA59903,ELE17451', 0.03029848507574621),\n",
       " ('SNA59903|DAI62779,ELE17451', 0.22671156004489337),\n",
       " ('DAI75645GRO15017|FRO40251', 0.7456140350877193),\n",
       " ('FRO40251GRO15017|DAI75645', 0.8629441624365483),\n",
       " ('GRO15017|FRO40251,DAI75645', 0.13333333333333333),\n",
       " ('DAI75645|FRO40251,GRO15017', 0.062134502923976605),\n",
       " ('FRO40251|DAI75645,GRO15017', 0.043803143519711416),\n",
       " ('DAI55148DAI62779|FRO40251', 0.3593155893536122)]"
      ]
     },
     "execution_count": 101,
     "metadata": {},
     "output_type": "execute_result"
    }
   ],
   "source": [
    "rules = freqSet.flatMap(lambda x: getAssociationRule(x, suppDict, k))\n",
    "rules.take(10)"
   ]
  },
  {
   "cell_type": "code",
   "execution_count": 94,
   "metadata": {},
   "outputs": [
    {
     "ename": "KeyError",
     "evalue": "('GRO15017', 'ELE17451')",
     "output_type": "error",
     "traceback": [
      "\u001b[0;31m---------------------------------------------------------------------------\u001b[0m",
      "\u001b[0;31mKeyError\u001b[0m                                  Traceback (most recent call last)",
      "\u001b[0;32m<ipython-input-94-386ba34c0268>\u001b[0m in \u001b[0;36m<module>\u001b[0;34m\u001b[0m\n\u001b[0;32m----> 1\u001b[0;31m \u001b[0mfreqSetDict\u001b[0m\u001b[0;34m[\u001b[0m\u001b[0;34m(\u001b[0m\u001b[0;34m'GRO15017'\u001b[0m\u001b[0;34m,\u001b[0m \u001b[0;34m'ELE17451'\u001b[0m\u001b[0;34m)\u001b[0m\u001b[0;34m]\u001b[0m\u001b[0;34m\u001b[0m\u001b[0;34m\u001b[0m\u001b[0m\n\u001b[0m",
      "\u001b[0;31mKeyError\u001b[0m: ('GRO15017', 'ELE17451')"
     ]
    }
   ],
   "source": [
    "freqSetDict[('GRO15017', 'ELE17451')]"
   ]
  },
  {
   "cell_type": "code",
   "execution_count": 103,
   "metadata": {},
   "outputs": [
    {
     "data": {
      "text/plain": [
       "[('GRO85051SNA80324|FRO40251', 3.0),\n",
       " ('DAI88079GRO73461|FRO40251', 2.9793103448275864),\n",
       " ('DAI88079SNA80324|FRO40251', 2.936619718309859),\n",
       " ('DAI23334ELE17451|DAI62779', 2.91),\n",
       " ('ELE99737FRO19221|DAI85309', 2.5037593984962405)]"
      ]
     },
     "execution_count": 103,
     "metadata": {},
     "output_type": "execute_result"
    }
   ],
   "source": [
    "# top 5 pairs\n",
    "newRules = rules.sortBy(lambda t: (-t[1],t[0]))\n",
    "newRules.take(5)"
   ]
  }
 ],
 "metadata": {
  "kernelspec": {
   "display_name": "Python 3",
   "language": "python",
   "name": "python3"
  },
  "language_info": {
   "codemirror_mode": {
    "name": "ipython",
    "version": 3
   },
   "file_extension": ".py",
   "mimetype": "text/x-python",
   "name": "python",
   "nbconvert_exporter": "python",
   "pygments_lexer": "ipython3",
   "version": "3.7.6"
  }
 },
 "nbformat": 4,
 "nbformat_minor": 2
}
