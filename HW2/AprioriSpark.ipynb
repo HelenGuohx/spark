{
 "cells": [
  {
   "cell_type": "code",
   "execution_count": 1,
   "metadata": {},
   "outputs": [],
   "source": [
    "from pyspark import SparkContext\n",
    "from pyspark import SparkConf\n"
   ]
  },
  {
   "cell_type": "code",
   "execution_count": 2,
   "metadata": {},
   "outputs": [],
   "source": [
    "from itertools import chain, combinations\n",
    "import copy"
   ]
  },
  {
   "cell_type": "code",
   "execution_count": 3,
   "metadata": {},
   "outputs": [],
   "source": [
    "conf = SparkConf().setAppName(\"apriori\")\n",
    "sc = SparkContext(conf=conf)"
   ]
  },
  {
   "cell_type": "code",
   "execution_count": 18,
   "metadata": {},
   "outputs": [],
   "source": [
    "S = 100\n",
    "freqSetDict = {}"
   ]
  },
  {
   "cell_type": "code",
   "execution_count": 5,
   "metadata": {},
   "outputs": [],
   "source": [
    "text = sc.textFile('browsing.txt')"
   ]
  },
  {
   "cell_type": "code",
   "execution_count": 6,
   "metadata": {},
   "outputs": [
    {
     "data": {
      "text/plain": [
       "['FRO11987 ELE17451 ELE89019 SNA90258 GRO99222 ',\n",
       " 'GRO99222 GRO12298 FRO12685 ELE91550 SNA11465 ELE26917 ELE52966 FRO90334 SNA30755 ELE17451 FRO84225 SNA80192 ',\n",
       " 'ELE17451 GRO73461 DAI22896 SNA99873 FRO86643 ',\n",
       " 'ELE17451 ELE37798 FRO86643 GRO56989 ELE23393 SNA11465 ',\n",
       " 'ELE17451 SNA69641 FRO86643 FRO78087 SNA11465 GRO39357 ELE28573 ELE11375 DAI54444 ']"
      ]
     },
     "execution_count": 6,
     "metadata": {},
     "output_type": "execute_result"
    }
   ],
   "source": [
    "text.take(5)"
   ]
  },
  {
   "cell_type": "code",
   "execution_count": 7,
   "metadata": {},
   "outputs": [],
   "source": [
    "# k = 1\n",
    "candSetCount1 = text.flatMap(lambda t: t.strip().split(' ')) \\\n",
    "    .map(lambda item: (item, 1)).reduceByKey(lambda x,y: x+y )"
   ]
  },
  {
   "cell_type": "code",
   "execution_count": 14,
   "metadata": {},
   "outputs": [],
   "source": [
    "# get frequent set\n",
    "freqSetCount1 = candSetCount1.filter(lambda x: x[1] >= S)"
   ]
  },
  {
   "cell_type": "code",
   "execution_count": 15,
   "metadata": {},
   "outputs": [],
   "source": [
    "freqSet1 = freqSetCount1.map(lambda x: x[0])"
   ]
  },
  {
   "cell_type": "code",
   "execution_count": 19,
   "metadata": {},
   "outputs": [],
   "source": [
    "freqSetDict.update(freqSetCount1.collect())"
   ]
  },
  {
   "cell_type": "code",
   "execution_count": 21,
   "metadata": {},
   "outputs": [
    {
     "data": {
      "text/plain": [
       "{'FRO11987': 104,\n",
       " 'SNA90258': 550,\n",
       " 'ELE52966': 380,\n",
       " 'SNA80192': 258,\n",
       " 'GRO73461': 3602,\n",
       " 'DAI22896': 1219,\n",
       " 'FRO86643': 235,\n",
       " 'SNA69641': 599,\n",
       " 'GRO39357': 296,\n",
       " 'ELE11375': 214,\n",
       " 'DAI50921': 350,\n",
       " 'ELE59935': 1311,\n",
       " 'SNA85662': 349,\n",
       " 'SNA91554': 208,\n",
       " 'DAI22177': 1627,\n",
       " 'DAI14125': 163,\n",
       " 'ELE66810': 1697,\n",
       " 'DAI49199': 664,\n",
       " 'GRO36567': 832,\n",
       " 'DAI87514': 254,\n",
       " 'GRO48282': 184,\n",
       " 'GRO12935': 169,\n",
       " 'SNA55952': 1094,\n",
       " 'DAI48891': 825,\n",
       " 'ELE11111': 811,\n",
       " 'SNA66979': 703,\n",
       " 'FRO92261': 915,\n",
       " 'FRO41069': 409,\n",
       " 'FRO16142': 931,\n",
       " 'DAI88808': 123,\n",
       " 'DAI22534': 287,\n",
       " 'FRO19520': 133,\n",
       " 'FRO24098': 521,\n",
       " 'FRO98878': 157,\n",
       " 'SNA72163': 1090,\n",
       " 'DAI55911': 974,\n",
       " 'FRO31317': 2330,\n",
       " 'SNA59903': 891,\n",
       " 'FRO38366': 353,\n",
       " 'ELE20196': 545,\n",
       " 'FRO98184': 480,\n",
       " 'ELE30182': 274,\n",
       " 'DAI63921': 1773,\n",
       " 'SNA18336': 709,\n",
       " 'FRO62970': 115,\n",
       " 'SNA83730': 379,\n",
       " 'DAI91290': 1138,\n",
       " 'DAI32480': 165,\n",
       " 'SNA14713': 188,\n",
       " 'SNA93641': 240,\n",
       " 'GRO17442': 101,\n",
       " 'SNA93730': 320,\n",
       " 'SNA89670': 169,\n",
       " 'DAI84001': 363,\n",
       " 'ELE12792': 832,\n",
       " 'ELE28189': 361,\n",
       " 'ELE63685': 176,\n",
       " 'SNA56035': 148,\n",
       " 'ELE86561': 735,\n",
       " 'GRO85051': 1214,\n",
       " 'GRO84328': 299,\n",
       " 'SNA62579': 106,\n",
       " 'FRO37380': 117,\n",
       " 'DAI25796': 127,\n",
       " 'DAI73122': 566,\n",
       " 'ELE49863': 406,\n",
       " 'FRO53137': 190,\n",
       " 'ELE64231': 139,\n",
       " 'FRO21081': 436,\n",
       " 'FRO94523': 390,\n",
       " 'GRO15448': 237,\n",
       " 'SNA85241': 335,\n",
       " 'FRO73056': 728,\n",
       " 'DAI35798': 226,\n",
       " 'SNA64534': 351,\n",
       " 'ELE37770': 630,\n",
       " 'GRO61641': 320,\n",
       " 'ELE32164': 2851,\n",
       " 'DAI88807': 1316,\n",
       " 'GRO92635': 136,\n",
       " 'FRO27054': 229,\n",
       " 'ELE85027': 478,\n",
       " 'FRO66272': 927,\n",
       " 'SNA36781': 165,\n",
       " 'DAI88079': 452,\n",
       " 'SNA80324': 3044,\n",
       " 'FRO55003': 189,\n",
       " 'DAI29878': 114,\n",
       " 'SNA88283': 865,\n",
       " 'ELE38504': 271,\n",
       " 'DAI75645': 2736,\n",
       " 'SNA12663': 523,\n",
       " 'FRO61611': 205,\n",
       " 'ELE92629': 336,\n",
       " 'SNA83597': 130,\n",
       " 'SNA96271': 1295,\n",
       " 'ELE49801': 663,\n",
       " 'DAI67621': 384,\n",
       " 'GRO50832': 608,\n",
       " 'GRO68067': 651,\n",
       " 'ELE15527': 332,\n",
       " 'SNA97586': 178,\n",
       " 'FRO85978': 1918,\n",
       " 'SNA24799': 504,\n",
       " 'SNA99654': 234,\n",
       " 'FRO74605': 261,\n",
       " 'SNA57913': 244,\n",
       " 'SNA55617': 389,\n",
       " 'DAI94514': 129,\n",
       " 'SNA38068': 811,\n",
       " 'DAI51880': 375,\n",
       " 'ELE88263': 397,\n",
       " 'SNA17775': 167,\n",
       " 'DAI80076': 232,\n",
       " 'DAI13788': 213,\n",
       " 'ELE74009': 1816,\n",
       " 'GRO58055': 113,\n",
       " 'GRO56726': 1784,\n",
       " 'ELE30196': 121,\n",
       " 'FRO35729': 438,\n",
       " 'GRO52067': 315,\n",
       " 'FRO89565': 516,\n",
       " 'SNA49028': 150,\n",
       " 'DAI62356': 177,\n",
       " 'SNA44451': 175,\n",
       " 'ELE38289': 517,\n",
       " 'SNA12933': 189,\n",
       " 'ELE69675': 223,\n",
       " 'GRO58671': 120,\n",
       " 'ELE87456': 655,\n",
       " 'FRO75586': 762,\n",
       " 'ELE22970': 252,\n",
       " 'DAI26390': 243,\n",
       " 'DAI45339': 159,\n",
       " 'FRO66216': 157,\n",
       " 'GRO87006': 291,\n",
       " 'SNA35625': 199,\n",
       " 'DAI15681': 132,\n",
       " 'ELE30327': 183,\n",
       " 'GRO55545': 138,\n",
       " 'ELE56788': 1345,\n",
       " 'GRO88324': 715,\n",
       " 'ELE20202': 317,\n",
       " 'ELE25077': 478,\n",
       " 'FRO74121': 179,\n",
       " 'SNA94104': 107,\n",
       " 'ELE76310': 102,\n",
       " 'ELE49861': 397,\n",
       " 'ELE55721': 169,\n",
       " 'ELE50215': 113,\n",
       " 'ELE74482': 1316,\n",
       " 'ELE61961': 265,\n",
       " 'FRO49682': 156,\n",
       " 'SNA53220': 580,\n",
       " 'ELE24630': 321,\n",
       " 'ELE67409': 135,\n",
       " 'DAI20585': 120,\n",
       " 'SNA74022': 286,\n",
       " 'SNA26242': 218,\n",
       " 'GRO89004': 308,\n",
       " 'DAI56158': 153,\n",
       " 'GRO91660': 212,\n",
       " 'FRO61354': 450,\n",
       " 'SNA44190': 437,\n",
       " 'GRO69388': 121,\n",
       " 'SNA67745': 151,\n",
       " 'SNA38067': 164,\n",
       " 'SNA68538': 344,\n",
       " 'DAI51778': 100,\n",
       " 'GRO93309': 108,\n",
       " 'SNA17270': 236,\n",
       " 'ELE11909': 131,\n",
       " 'GRO64900': 1046,\n",
       " 'GRO71621': 1920,\n",
       " 'FRO71085': 337,\n",
       " 'FRO47796': 102,\n",
       " 'GRO65522': 288,\n",
       " 'GRO82670': 459,\n",
       " 'DAI48423': 218,\n",
       " 'DAI11778': 117,\n",
       " 'DAI87507': 213,\n",
       " 'DAI67189': 280,\n",
       " 'FRO33641': 146,\n",
       " 'ELE78169': 558,\n",
       " 'SNA41431': 144,\n",
       " 'FRO47962': 306,\n",
       " 'ELE42696': 200,\n",
       " 'FRO87724': 208,\n",
       " 'GRO61273': 439,\n",
       " 'GRO88511': 855,\n",
       " 'ELE11160': 307,\n",
       " 'DAI53152': 195,\n",
       " 'DAI93865': 208,\n",
       " 'SNA30533': 332,\n",
       " 'GRO32086': 856,\n",
       " 'ELE59541': 179,\n",
       " 'SNA54435': 325,\n",
       " 'ELE20847': 818,\n",
       " 'SNA62046': 115,\n",
       " 'SNA88543': 147,\n",
       " 'GRO52116': 203,\n",
       " 'FRO74324': 220,\n",
       " 'GRO76157': 494,\n",
       " 'FRO32147': 169,\n",
       " 'GRO29389': 138,\n",
       " 'SNA50789': 588,\n",
       " 'ELE59028': 673,\n",
       " 'DAI94415': 116,\n",
       " 'ELE31499': 111,\n",
       " 'DAI56641': 152,\n",
       " 'FRO14040': 124,\n",
       " 'ELE42974': 170,\n",
       " 'FRO99372': 505,\n",
       " 'GRO95519': 400,\n",
       " 'SNA28601': 109,\n",
       " 'GRO46627': 192,\n",
       " 'SNA90161': 101,\n",
       " 'GRO57279': 233,\n",
       " 'GRO93333': 153,\n",
       " 'SNA58341': 525,\n",
       " 'ELE73604': 216,\n",
       " 'GRO21047': 126,\n",
       " 'DAI55148': 975,\n",
       " 'FRO66881': 119,\n",
       " 'FRO64059': 179,\n",
       " 'FRO77633': 223,\n",
       " 'SNA38046': 239,\n",
       " 'DAI37288': 181,\n",
       " 'DAI59441': 108,\n",
       " 'DAI43063': 169,\n",
       " 'GRO81647': 490,\n",
       " 'SNA49107': 484,\n",
       " 'ELE53470': 271,\n",
       " 'ELE60182': 198,\n",
       " 'DAI99319': 232,\n",
       " 'SNA37803': 212,\n",
       " 'FRO22809': 267,\n",
       " 'GRO81900': 169,\n",
       " 'FRO57082': 182,\n",
       " 'DAI91654': 131,\n",
       " 'FRO99751': 175,\n",
       " 'DAI63631': 201,\n",
       " 'DAI22240': 597,\n",
       " 'DAI88088': 394,\n",
       " 'ELE69750': 342,\n",
       " 'SNA51149': 119,\n",
       " 'FRO44046': 213,\n",
       " 'ELE36588': 101,\n",
       " 'FRO13478': 276,\n",
       " 'SNA82528': 594,\n",
       " 'SNA29146': 145,\n",
       " 'SNA53368': 171,\n",
       " 'GRO88505': 521,\n",
       " 'SNA12350': 113,\n",
       " 'GRO12870': 106,\n",
       " 'FRO26482': 332,\n",
       " 'DAI32718': 173,\n",
       " 'SNA88091': 168,\n",
       " 'FRO87855': 131,\n",
       " 'SNA59228': 155,\n",
       " 'SNA71244': 195,\n",
       " 'FRO44973': 142,\n",
       " 'ELE24694': 107,\n",
       " 'GRO89148': 228,\n",
       " 'DAI91392': 194,\n",
       " 'SNA74222': 158,\n",
       " 'ELE61844': 187,\n",
       " 'DAI20027': 114,\n",
       " 'DAI85054': 116,\n",
       " 'GRO29598': 214,\n",
       " 'DAI28743': 214,\n",
       " 'FRO64787': 130,\n",
       " 'DAI74874': 132,\n",
       " 'SNA12690': 210,\n",
       " 'GRO39661': 205,\n",
       " 'SNA31619': 281,\n",
       " 'DAI85309': 2293,\n",
       " 'SNA90993': 100,\n",
       " 'FRO55161': 158,\n",
       " 'ELE36642': 162,\n",
       " 'DAI13902': 233,\n",
       " 'FRO71487': 194,\n",
       " 'GRO96567': 131,\n",
       " 'ELE88539': 197,\n",
       " 'DAI54320': 160,\n",
       " 'GRO67376': 132,\n",
       " 'ELE63143': 159,\n",
       " 'SNA93177': 132,\n",
       " 'GRO94871': 103,\n",
       " 'FRO71033': 104,\n",
       " 'SNA30908': 136,\n",
       " 'DAI34857': 163,\n",
       " 'DAI53110': 239,\n",
       " 'SNA81556': 110,\n",
       " 'SNA97370': 119,\n",
       " 'FRO57542': 175,\n",
       " 'SNA77634': 131,\n",
       " 'FRO19221': 773,\n",
       " 'GRO83463': 544,\n",
       " 'ELE12808': 100,\n",
       " 'FRO31824': 223,\n",
       " 'DAI77909': 125,\n",
       " 'GRO74951': 237,\n",
       " 'DAI42393': 118,\n",
       " 'FRO73386': 119,\n",
       " 'ELE67905': 102,\n",
       " 'FRO36333': 124,\n",
       " 'GRO26124': 106,\n",
       " 'DAI50895': 197,\n",
       " 'GRO42566': 132,\n",
       " 'ELE99724': 101,\n",
       " 'SNA56249': 222,\n",
       " 'DAI39727': 156,\n",
       " 'GRO96342': 158,\n",
       " 'DAI72502': 183,\n",
       " 'ELE16299': 227,\n",
       " 'GRO22957': 134,\n",
       " 'SNA12342': 103,\n",
       " 'DAI87448': 858,\n",
       " 'FRO48055': 182,\n",
       " 'GRO37797': 155,\n",
       " 'GRO99635': 120,\n",
       " 'SNA40078': 152,\n",
       " 'ELE27021': 251,\n",
       " 'GRO85863': 115,\n",
       " 'ELE81987': 230,\n",
       " 'ELE19549': 231,\n",
       " 'DAI92600': 935,\n",
       " 'ELE17451': 3875,\n",
       " 'GRO99222': 906,\n",
       " 'GRO12298': 385,\n",
       " 'SNA11465': 142,\n",
       " 'ELE26917': 2292,\n",
       " 'SNA30755': 456,\n",
       " 'SNA99873': 2083,\n",
       " 'ELE37798': 534,\n",
       " 'GRO56989': 655,\n",
       " 'FRO78087': 1531,\n",
       " 'DAI54444': 401,\n",
       " 'DAI46755': 255,\n",
       " 'FRO81176': 469,\n",
       " 'GRO94758': 1489,\n",
       " 'SNA47306': 695,\n",
       " 'DAI92253': 293,\n",
       " 'ELE27376': 159,\n",
       " 'DAI38969': 785,\n",
       " 'DAI50913': 448,\n",
       " 'FRO32293': 1702,\n",
       " 'FRO98729': 664,\n",
       " 'DAI95741': 878,\n",
       " 'GRO30386': 1840,\n",
       " 'DAI35347': 1060,\n",
       " 'SNA63157': 139,\n",
       " 'SNA93860': 1407,\n",
       " 'GRO15017': 1275,\n",
       " 'GRO59710': 2004,\n",
       " 'ELE18435': 163,\n",
       " 'DAI95860': 246,\n",
       " 'GRO39070': 145,\n",
       " 'ELE69204': 179,\n",
       " 'ELE66600': 1713,\n",
       " 'ELE14480': 1147,\n",
       " 'GRO82070': 114,\n",
       " 'DAI62779': 6667,\n",
       " 'GRO34288': 266,\n",
       " 'SNA55762': 1646,\n",
       " 'ELE91337': 1289,\n",
       " 'FRO61250': 102,\n",
       " 'SNA43319': 432,\n",
       " 'GRO38983': 839,\n",
       " 'ELE68605': 697,\n",
       " 'SNA45677': 2455,\n",
       " 'FRO78994': 569,\n",
       " 'ELE20166': 145,\n",
       " 'SNA30579': 139,\n",
       " 'DAI52318': 282,\n",
       " 'SNA77101': 102,\n",
       " 'ELE20347': 366,\n",
       " 'DAI37607': 319,\n",
       " 'ELE22574': 131,\n",
       " 'GRO71615': 290,\n",
       " 'DAI33885': 108,\n",
       " 'SNA40408': 354,\n",
       " 'ELE21353': 430,\n",
       " 'FRO40251': 3881,\n",
       " 'GRO38636': 107,\n",
       " 'FRO43226': 583,\n",
       " 'DAI59508': 707,\n",
       " 'FRO99756': 278,\n",
       " 'ELE20398': 690,\n",
       " 'GRO69543': 882,\n",
       " 'FRO14171': 369,\n",
       " 'DAI74083': 376,\n",
       " 'GRO44993': 1193,\n",
       " 'GRO61133': 1321,\n",
       " 'GRO81087': 1220,\n",
       " 'SNA18183': 113,\n",
       " 'GRO35122': 852,\n",
       " 'GRO67739': 360,\n",
       " 'SNA35089': 111,\n",
       " 'DAI70456': 427,\n",
       " 'ELE53126': 837,\n",
       " 'ELE37048': 802,\n",
       " 'ELE58409': 196,\n",
       " 'ELE62598': 717,\n",
       " 'GRO21487': 2115,\n",
       " 'DAI43223': 1290,\n",
       " 'ELE37153': 132,\n",
       " 'ELE87710': 215,\n",
       " 'ELE53835': 237,\n",
       " 'SNA46500': 104,\n",
       " 'ELE66741': 387,\n",
       " 'SNA59061': 622,\n",
       " 'DAI88352': 456,\n",
       " 'FRO75591': 125,\n",
       " 'SNA79852': 108,\n",
       " 'FRO92469': 849,\n",
       " 'GRO38814': 1352,\n",
       " 'ELE99737': 1516,\n",
       " 'DAI66213': 109,\n",
       " 'SNA35732': 135,\n",
       " 'DAI86167': 330,\n",
       " 'FRO87415': 239,\n",
       " 'DAI83948': 830,\n",
       " 'SNA89368': 231,\n",
       " 'DAI48126': 417,\n",
       " 'FRO35904': 1436,\n",
       " 'ELE61940': 279,\n",
       " 'FRO61161': 178,\n",
       " 'ELE12845': 562,\n",
       " 'SNA95666': 804,\n",
       " 'SNA64706': 105,\n",
       " 'FRO53271': 1420,\n",
       " 'DAI32836': 173,\n",
       " 'SNA90094': 1390,\n",
       " 'DAI91422': 185,\n",
       " 'ELE69630': 208,\n",
       " 'FRO90481': 163,\n",
       " 'SNA53983': 118,\n",
       " 'GRO35827': 218,\n",
       " 'SNA20554': 777,\n",
       " 'ELE99211': 149,\n",
       " 'ELE24064': 139,\n",
       " 'FRO95943': 230,\n",
       " 'DAI66473': 113,\n",
       " 'GRO73939': 103,\n",
       " 'GRO71279': 168,\n",
       " 'ELE65859': 284,\n",
       " 'SNA28093': 126,\n",
       " 'FRO41939': 408,\n",
       " 'ELE34057': 1489,\n",
       " 'DAI58206': 164,\n",
       " 'GRO24246': 944,\n",
       " 'SNA30859': 224,\n",
       " 'DAI64292': 270,\n",
       " 'FRO19671': 391,\n",
       " 'SNA28860': 164,\n",
       " 'DAI96999': 145,\n",
       " 'ELE35632': 426,\n",
       " 'ELE38511': 218,\n",
       " 'DAI33336': 438,\n",
       " 'GRO33815': 346,\n",
       " 'FRO66852': 262,\n",
       " 'ELE95803': 441,\n",
       " 'ELE88031': 277,\n",
       " 'FRO12719': 119,\n",
       " 'FRO80238': 142,\n",
       " 'GRO57755': 427,\n",
       " 'SNA52886': 130,\n",
       " 'ELE32244': 342,\n",
       " 'DAI31081': 1261,\n",
       " 'GRO23573': 272,\n",
       " 'DAI49017': 158,\n",
       " 'DAI83733': 1712,\n",
       " 'DAI59546': 259,\n",
       " 'DAI27125': 225,\n",
       " 'SNA19378': 117,\n",
       " 'FRO80039': 2233,\n",
       " 'FRO18274': 145,\n",
       " 'ELE50913': 190,\n",
       " 'ELE30911': 322,\n",
       " 'DAI16732': 187,\n",
       " 'GRO90585': 100,\n",
       " 'ELE40371': 100,\n",
       " 'ELE56095': 164,\n",
       " 'SNA62128': 1023,\n",
       " 'FRO25840': 182,\n",
       " 'DAI59609': 350,\n",
       " 'ELE88583': 328,\n",
       " 'GRO30912': 210,\n",
       " 'SNA87482': 103,\n",
       " 'SNA12085': 117,\n",
       " 'ELE87243': 205,\n",
       " 'SNA57865': 385,\n",
       " 'GRO45654': 144,\n",
       " 'SNA71332': 541,\n",
       " 'DAI87412': 271,\n",
       " 'GRO20770': 137,\n",
       " 'ELE36909': 321,\n",
       " 'DAI69156': 316,\n",
       " 'SNA84284': 128,\n",
       " 'GRO26160': 154,\n",
       " 'ELE86306': 221,\n",
       " 'SNA29014': 384,\n",
       " 'DAI13266': 181,\n",
       " 'SNA11790': 115,\n",
       " 'SNA46873': 230,\n",
       " 'ELE60861': 127,\n",
       " 'GRO83111': 130,\n",
       " 'FRO42750': 186,\n",
       " 'GRO67714': 127,\n",
       " 'DAI89320': 200,\n",
       " 'DAI42493': 1001,\n",
       " 'ELE16038': 226,\n",
       " 'ELE18198': 256,\n",
       " 'ELE12951': 106,\n",
       " 'FRO17734': 282,\n",
       " 'DAI11223': 155,\n",
       " 'GRO20227': 163,\n",
       " 'FRO49726': 118,\n",
       " 'FRO91449': 149,\n",
       " 'GRO18367': 581,\n",
       " 'FRO18565': 394,\n",
       " 'FRO73337': 166,\n",
       " 'DAI18805': 163,\n",
       " 'GRO46854': 1756,\n",
       " 'DAI31893': 220,\n",
       " 'DAI47529': 304,\n",
       " 'FRO48920': 294,\n",
       " 'ELE54144': 163,\n",
       " 'ELE72565': 249,\n",
       " 'DAI53495': 137,\n",
       " 'FRO47183': 151,\n",
       " 'ELE73453': 188,\n",
       " 'SNA66583': 261,\n",
       " 'DAI29159': 442,\n",
       " 'SNA61380': 260,\n",
       " 'FRO83374': 285,\n",
       " 'GRO18468': 193,\n",
       " 'GRO92215': 102,\n",
       " 'SNA16036': 262,\n",
       " 'FRO17134': 119,\n",
       " 'SNA40784': 850,\n",
       " 'ELE27303': 123,\n",
       " 'GRO70959': 326,\n",
       " 'DAI14181': 110,\n",
       " 'GRO56701': 185,\n",
       " 'DAI74315': 286,\n",
       " 'SNA37363': 103,\n",
       " 'FRO53088': 285,\n",
       " 'DAI41952': 168,\n",
       " 'ELE55848': 148,\n",
       " 'DAI94445': 149,\n",
       " 'ELE74410': 220,\n",
       " 'ELE34030': 140,\n",
       " 'SNA66588': 109,\n",
       " 'DAI43868': 296,\n",
       " 'SNA82308': 136,\n",
       " 'GRO17075': 261,\n",
       " 'SNA96466': 506,\n",
       " 'FRO68870': 186,\n",
       " 'FRO48038': 327,\n",
       " 'DAI14470': 153,\n",
       " 'FRO32801': 101,\n",
       " 'DAI63507': 151,\n",
       " 'SNA92435': 331,\n",
       " 'ELE38536': 226,\n",
       " 'ELE74567': 139,\n",
       " 'GRO94173': 474,\n",
       " 'FRO49827': 273,\n",
       " 'FRO89355': 136,\n",
       " 'ELE81534': 213,\n",
       " 'DAI23411': 102,\n",
       " 'ELE92920': 1197,\n",
       " 'DAI50189': 103,\n",
       " 'FRO64631': 341,\n",
       " 'GRO46839': 225,\n",
       " 'DAI13194': 116,\n",
       " 'SNA81024': 222,\n",
       " 'ELE36333': 268,\n",
       " 'DAI74977': 108,\n",
       " 'SNA57752': 127,\n",
       " 'SNA80230': 201,\n",
       " 'SNA42528': 489,\n",
       " 'DAI72236': 280,\n",
       " 'SNA18094': 109,\n",
       " 'FRO23748': 209,\n",
       " 'GRO97621': 125,\n",
       " 'ELE35159': 202,\n",
       " 'FRO79022': 751,\n",
       " 'FRO97732': 260,\n",
       " 'GRO13844': 203,\n",
       " 'FRO11140': 103,\n",
       " 'FRO87622': 103,\n",
       " 'GRO75758': 163,\n",
       " 'ELE30933': 327,\n",
       " 'DAI26369': 175,\n",
       " 'ELE15428': 118,\n",
       " 'FRO62357': 159,\n",
       " 'SNA43571': 125,\n",
       " 'DAI74112': 113,\n",
       " 'SNA24061': 121,\n",
       " 'SNA87537': 167,\n",
       " 'GRO33356': 132,\n",
       " 'ELE60381': 368,\n",
       " 'DAI52509': 158,\n",
       " 'ELE64691': 106,\n",
       " 'DAI68241': 103,\n",
       " 'SNA28607': 103,\n",
       " 'SNA17634': 131,\n",
       " 'SNA13853': 117,\n",
       " 'FRO68757': 107,\n",
       " 'ELE69552': 303,\n",
       " 'GRO24757': 102,\n",
       " 'SNA40058': 118,\n",
       " 'SNA21851': 120,\n",
       " 'DAI94679': 331,\n",
       " 'DAI23334': 286,\n",
       " 'GRO66628': 102,\n",
       " 'GRO91630': 132,\n",
       " 'FRO91992': 115,\n",
       " 'GRO32524': 106,\n",
       " 'GRO43332': 137,\n",
       " 'ELE69973': 107,\n",
       " 'GRO65025': 151,\n",
       " 'DAI18527': 268,\n",
       " 'DAI34472': 121,\n",
       " 'DAI83031': 297,\n",
       " 'FRO31077': 203,\n",
       " 'GRO75369': 166,\n",
       " 'FRO65488': 145,\n",
       " 'ELE50759': 122,\n",
       " 'ELE31307': 102,\n",
       " 'DAI43747': 233,\n",
       " 'ELE93905': 109,\n",
       " 'FRO99783': 764,\n",
       " 'GRO15683': 121,\n",
       " 'FRO98006': 121,\n",
       " 'GRO67806': 248,\n",
       " 'SNA38584': 104,\n",
       " 'FRO17249': 117,\n",
       " 'GRO81045': 252,\n",
       " 'DAI16142': 132,\n",
       " 'DAI42083': 522,\n",
       " 'ELE53386': 128,\n",
       " 'SNA92493': 153,\n",
       " 'FRO52457': 153}"
      ]
     },
     "execution_count": 21,
     "metadata": {},
     "output_type": "execute_result"
    }
   ],
   "source": [
    "freqSetDict"
   ]
  },
  {
   "cell_type": "code",
   "execution_count": 109,
   "metadata": {},
   "outputs": [],
   "source": [
    "# generate association rules\n",
    "# compute confidence score\n",
    "\n",
    "def subsets(arr):\n",
    "    \"\"\" Returns non empty subsets of arr\"\"\"\n",
    "    return chain(*[combinations(arr, i + 1) for i, a in enumerate(arr)])\n",
    "\n",
    "def getAssociationRule(item, suppDict,k):\n",
    "    \"\"\"\n",
    "    item: tuple, k-item frequent \n",
    "    suppDict: itemSuppDict\n",
    "    return rules: Association Rule\n",
    "    \"\"\"\n",
    "    _item = set(item)\n",
    "    rules = []\n",
    "    _subsets = map(frozenset, [x for x in subsets(_item) if len(x) < k])\n",
    "    for i in _subsets:\n",
    "        rightItem = i\n",
    "        leftItem = tuple(_item.difference(rightItem))\n",
    "        leftItem = leftItem if len(leftItem) > 1 else leftItem[0]\n",
    "        conf = suppDict[item]/suppDict[leftItem]\n",
    "        r = ''.join(leftItem) + '|' + ','.join(rightItem)\n",
    "        rules.append((r, conf))\n",
    "        print(\"item\", item)\n",
    "        print(\"leftItem\",leftItem)\n",
    "    return rules\n",
    "            "
   ]
  },
  {
   "cell_type": "code",
   "execution_count": 110,
   "metadata": {},
   "outputs": [],
   "source": [
    "a = freqSet.take(10)"
   ]
  },
  {
   "cell_type": "code",
   "execution_count": 111,
   "metadata": {},
   "outputs": [
    {
     "name": "stdout",
     "output_type": "stream",
     "text": [
      "item ('DAI75645', 'SNA80324', 'SNA90094')\n",
      "leftItem ('DAI75645', 'SNA90094')\n",
      "item ('DAI75645', 'SNA80324', 'SNA90094')\n",
      "leftItem ('SNA80324', 'SNA90094')\n"
     ]
    },
    {
     "ename": "KeyError",
     "evalue": "('SNA80324', 'DAI75645')",
     "output_type": "error",
     "traceback": [
      "\u001b[0;31m---------------------------------------------------------------------------\u001b[0m",
      "\u001b[0;31mKeyError\u001b[0m                                  Traceback (most recent call last)",
      "\u001b[0;32m<ipython-input-111-64aa80c4beb2>\u001b[0m in \u001b[0;36m<module>\u001b[0;34m\u001b[0m\n\u001b[1;32m      1\u001b[0m \u001b[0;32mfor\u001b[0m \u001b[0mi\u001b[0m \u001b[0;32min\u001b[0m \u001b[0ma\u001b[0m\u001b[0;34m:\u001b[0m\u001b[0;34m\u001b[0m\u001b[0;34m\u001b[0m\u001b[0m\n\u001b[0;32m----> 2\u001b[0;31m     \u001b[0mgetAssociationRule\u001b[0m\u001b[0;34m(\u001b[0m\u001b[0mi\u001b[0m\u001b[0;34m,\u001b[0m \u001b[0mfreqSetDict\u001b[0m\u001b[0;34m,\u001b[0m \u001b[0;36m3\u001b[0m\u001b[0;34m)\u001b[0m\u001b[0;34m\u001b[0m\u001b[0;34m\u001b[0m\u001b[0m\n\u001b[0m",
      "\u001b[0;32m<ipython-input-109-71d1528b46cc>\u001b[0m in \u001b[0;36mgetAssociationRule\u001b[0;34m(item, suppDict, k)\u001b[0m\n\u001b[1;32m     19\u001b[0m         \u001b[0mleftItem\u001b[0m \u001b[0;34m=\u001b[0m \u001b[0mtuple\u001b[0m\u001b[0;34m(\u001b[0m\u001b[0m_item\u001b[0m\u001b[0;34m.\u001b[0m\u001b[0mdifference\u001b[0m\u001b[0;34m(\u001b[0m\u001b[0mrightItem\u001b[0m\u001b[0;34m)\u001b[0m\u001b[0;34m)\u001b[0m\u001b[0;34m\u001b[0m\u001b[0;34m\u001b[0m\u001b[0m\n\u001b[1;32m     20\u001b[0m         \u001b[0mleftItem\u001b[0m \u001b[0;34m=\u001b[0m \u001b[0mleftItem\u001b[0m \u001b[0;32mif\u001b[0m \u001b[0mlen\u001b[0m\u001b[0;34m(\u001b[0m\u001b[0mleftItem\u001b[0m\u001b[0;34m)\u001b[0m \u001b[0;34m>\u001b[0m \u001b[0;36m1\u001b[0m \u001b[0;32melse\u001b[0m \u001b[0mleftItem\u001b[0m\u001b[0;34m[\u001b[0m\u001b[0;36m0\u001b[0m\u001b[0;34m]\u001b[0m\u001b[0;34m\u001b[0m\u001b[0;34m\u001b[0m\u001b[0m\n\u001b[0;32m---> 21\u001b[0;31m         \u001b[0mconf\u001b[0m \u001b[0;34m=\u001b[0m \u001b[0msuppDict\u001b[0m\u001b[0;34m[\u001b[0m\u001b[0mitem\u001b[0m\u001b[0;34m]\u001b[0m\u001b[0;34m/\u001b[0m\u001b[0msuppDict\u001b[0m\u001b[0;34m[\u001b[0m\u001b[0mleftItem\u001b[0m\u001b[0;34m]\u001b[0m\u001b[0;34m\u001b[0m\u001b[0;34m\u001b[0m\u001b[0m\n\u001b[0m\u001b[1;32m     22\u001b[0m         \u001b[0mr\u001b[0m \u001b[0;34m=\u001b[0m \u001b[0;34m''\u001b[0m\u001b[0;34m.\u001b[0m\u001b[0mjoin\u001b[0m\u001b[0;34m(\u001b[0m\u001b[0mleftItem\u001b[0m\u001b[0;34m)\u001b[0m \u001b[0;34m+\u001b[0m \u001b[0;34m'|'\u001b[0m \u001b[0;34m+\u001b[0m \u001b[0;34m','\u001b[0m\u001b[0;34m.\u001b[0m\u001b[0mjoin\u001b[0m\u001b[0;34m(\u001b[0m\u001b[0mrightItem\u001b[0m\u001b[0;34m)\u001b[0m\u001b[0;34m\u001b[0m\u001b[0;34m\u001b[0m\u001b[0m\n\u001b[1;32m     23\u001b[0m         \u001b[0mrules\u001b[0m\u001b[0;34m.\u001b[0m\u001b[0mappend\u001b[0m\u001b[0;34m(\u001b[0m\u001b[0;34m(\u001b[0m\u001b[0mr\u001b[0m\u001b[0;34m,\u001b[0m \u001b[0mconf\u001b[0m\u001b[0;34m)\u001b[0m\u001b[0;34m)\u001b[0m\u001b[0;34m\u001b[0m\u001b[0;34m\u001b[0m\u001b[0m\n",
      "\u001b[0;31mKeyError\u001b[0m: ('SNA80324', 'DAI75645')"
     ]
    }
   ],
   "source": [
    "for i in a:\n",
    "    getAssociationRule(i, freqSetDict, 3)"
   ]
  },
  {
   "cell_type": "code",
   "execution_count": 23,
   "metadata": {},
   "outputs": [],
   "source": [
    "textlist = text.map(lambda x: x.strip().split(' '))"
   ]
  },
  {
   "cell_type": "markdown",
   "metadata": {},
   "source": [
    "# k = 2\n"
   ]
  },
  {
   "cell_type": "code",
   "execution_count": 25,
   "metadata": {},
   "outputs": [],
   "source": [
    "# k = 2\n",
    "candSet2 = freqSet1.cartesian(freqSet1).filter(lambda x: x[0] < x[1] ) "
   ]
  },
  {
   "cell_type": "code",
   "execution_count": 24,
   "metadata": {},
   "outputs": [],
   "source": [
    "# sample2 = textlist.sample(False,fraction=0.1,seed=10)"
   ]
  },
  {
   "cell_type": "code",
   "execution_count": 26,
   "metadata": {},
   "outputs": [],
   "source": [
    "# count support\n",
    "candSetCount22 = candSet2.cartesian(textlist) \\\n",
    "#             .map(lambda item: (item[0],1) if set(item[0]).issubset(item[1]) else None) \\\n",
    "#             .filter(lambda x: x != None) \\\n",
    "#             .reduceByKey(lambda x,y: x+y) "
   ]
  },
  {
   "cell_type": "code",
   "execution_count": 27,
   "metadata": {},
   "outputs": [],
   "source": [
    "candSetCount2 = candSetCount22.map(lambda item: (item[0],1) if set(item[0]).issubset(item[1]) else None) \\\n",
    "            .filter(lambda x: x != None) \\\n",
    "            .reduceByKey(lambda x,y: x+y) "
   ]
  },
  {
   "cell_type": "code",
   "execution_count": 28,
   "metadata": {},
   "outputs": [],
   "source": [
    "freqSetCount2 = candSetCount2.filter(lambda x: x[1] >= S)"
   ]
  },
  {
   "cell_type": "code",
   "execution_count": 29,
   "metadata": {},
   "outputs": [],
   "source": [
    "# update freqSetDict\n",
    "freqSetDict.update(freqSetCount2.collect())"
   ]
  },
  {
   "cell_type": "code",
   "execution_count": 30,
   "metadata": {},
   "outputs": [],
   "source": [
    "freqSet2 = freqSetCount2.map(lambda x: x[0])"
   ]
  },
  {
   "cell_type": "code",
   "execution_count": 31,
   "metadata": {},
   "outputs": [],
   "source": [
    "rules2 = freqSet2.flatMap(lambda x: getAssociationRule(x, freqSetDict, 2))"
   ]
  },
  {
   "cell_type": "code",
   "execution_count": 32,
   "metadata": {},
   "outputs": [],
   "source": [
    "# top 5 pairs\n",
    "newRules2 = rules2.sortBy(lambda t: (-t[1],t[0]))"
   ]
  },
  {
   "cell_type": "code",
   "execution_count": 112,
   "metadata": {},
   "outputs": [
    {
     "data": {
      "text/plain": [
       "[('DAI93865|FRO40251', 1.0),\n",
       " ('GRO85051|FRO40251', 0.999176276771005),\n",
       " ('GRO38636|FRO40251', 0.9906542056074766),\n",
       " ('ELE12951|FRO40251', 0.9905660377358491),\n",
       " ('DAI88079|FRO40251', 0.9867256637168141)]"
      ]
     },
     "execution_count": 112,
     "metadata": {},
     "output_type": "execute_result"
    }
   ],
   "source": [
    "newRules2.take(5)"
   ]
  },
  {
   "cell_type": "code",
   "execution_count": 131,
   "metadata": {},
   "outputs": [],
   "source": [
    "newRules = newRules2"
   ]
  },
  {
   "cell_type": "code",
   "execution_count": 132,
   "metadata": {},
   "outputs": [
    {
     "data": {
      "text/plain": [
       "PythonRDD[134] at collect at <ipython-input-125-c1c0578754c3>:1"
      ]
     },
     "execution_count": 132,
     "metadata": {},
     "output_type": "execute_result"
    }
   ],
   "source": [
    "newRules2"
   ]
  },
  {
   "cell_type": "code",
   "execution_count": 133,
   "metadata": {},
   "outputs": [
    {
     "data": {
      "text/plain": [
       "PythonRDD[134] at collect at <ipython-input-125-c1c0578754c3>:1"
      ]
     },
     "execution_count": 133,
     "metadata": {},
     "output_type": "execute_result"
    }
   ],
   "source": [
    "newRules"
   ]
  },
  {
   "cell_type": "code",
   "execution_count": 130,
   "metadata": {},
   "outputs": [],
   "source": [
    "newRules = newRules.filter(lambda x: x[1] == 1)"
   ]
  },
  {
   "cell_type": "code",
   "execution_count": 125,
   "metadata": {},
   "outputs": [
    {
     "data": {
      "text/plain": [
       "2668"
      ]
     },
     "execution_count": 125,
     "metadata": {},
     "output_type": "execute_result"
    }
   ],
   "source": [
    "len(newRules2.collect())"
   ]
  },
  {
   "cell_type": "code",
   "execution_count": 37,
   "metadata": {},
   "outputs": [
    {
     "data": {
      "text/plain": [
       "[['FRO11987', 'ELE17451', 'ELE89019', 'SNA90258', 'GRO99222'],\n",
       " ['GRO99222',\n",
       "  'GRO12298',\n",
       "  'FRO12685',\n",
       "  'ELE91550',\n",
       "  'SNA11465',\n",
       "  'ELE26917',\n",
       "  'ELE52966',\n",
       "  'FRO90334',\n",
       "  'SNA30755',\n",
       "  'ELE17451',\n",
       "  'FRO84225',\n",
       "  'SNA80192'],\n",
       " ['ELE17451', 'GRO73461', 'DAI22896', 'SNA99873', 'FRO86643'],\n",
       " ['ELE17451', 'ELE37798', 'FRO86643', 'GRO56989', 'ELE23393', 'SNA11465'],\n",
       " ['ELE17451',\n",
       "  'SNA69641',\n",
       "  'FRO86643',\n",
       "  'FRO78087',\n",
       "  'SNA11465',\n",
       "  'GRO39357',\n",
       "  'ELE28573',\n",
       "  'ELE11375',\n",
       "  'DAI54444']]"
      ]
     },
     "execution_count": 37,
     "metadata": {},
     "output_type": "execute_result"
    }
   ],
   "source": [
    "textlist.take(5)"
   ]
  },
  {
   "cell_type": "markdown",
   "metadata": {},
   "source": [
    "# k = 3"
   ]
  },
  {
   "cell_type": "code",
   "execution_count": 40,
   "metadata": {},
   "outputs": [],
   "source": [
    "candSet = freqSet2.cartesian(freqSet2).filter(lambda x: x[0] < x[1] ) "
   ]
  },
  {
   "cell_type": "code",
   "execution_count": 41,
   "metadata": {},
   "outputs": [
    {
     "data": {
      "text/plain": [
       "[(('GRO73461', 'SNA72163'), ('GRO73461', 'SNA80324')),\n",
       " (('GRO73461', 'SNA72163'), ('SNA24799', 'SNA55617')),\n",
       " (('GRO73461', 'SNA72163'), ('SNA44190', 'SNA80324')),\n",
       " (('GRO73461', 'SNA72163'), ('SNA45677', 'SNA93860')),\n",
       " (('GRO73461', 'SNA72163'), ('GRO81087', 'SNA45677'))]"
      ]
     },
     "execution_count": 41,
     "metadata": {},
     "output_type": "execute_result"
    }
   ],
   "source": [
    "candSet.take(5)"
   ]
  },
  {
   "cell_type": "code",
   "execution_count": 59,
   "metadata": {},
   "outputs": [],
   "source": [
    "def getCandSet(item, k, freqDict):\n",
    "    t1 = set(item[0])\n",
    "    t2 = set(item[1])\n",
    "    t = t1.union(t2)\n",
    "    if len(t) == k and tuple(t.difference(t1).union(t.difference(t2))) in freqDict:\n",
    "        return t\n",
    "    return None"
   ]
  },
  {
   "cell_type": "code",
   "execution_count": 61,
   "metadata": {},
   "outputs": [
    {
     "data": {
      "text/plain": [
       "[{'GRO73461', 'SNA44190', 'SNA80324'},\n",
       " {'DAI55911', 'GRO73461', 'SNA80324'},\n",
       " {'ELE12792', 'GRO73461', 'SNA80324'},\n",
       " {'ELE11111', 'ELE32164', 'SNA80324'},\n",
       " {'DAI55911', 'ELE32164', 'SNA80324'}]"
      ]
     },
     "execution_count": 61,
     "metadata": {},
     "output_type": "execute_result"
    }
   ],
   "source": [
    "_candSet = candSet.map(lambda x: getCandSet(x,3,freqSetDict)).filter(lambda x: x)\n",
    "_candSet.take(5)"
   ]
  },
  {
   "cell_type": "code",
   "execution_count": 62,
   "metadata": {},
   "outputs": [
    {
     "data": {
      "text/plain": [
       "9246"
      ]
     },
     "execution_count": 62,
     "metadata": {},
     "output_type": "execute_result"
    }
   ],
   "source": [
    "len(_candSet.collect())"
   ]
  },
  {
   "cell_type": "code",
   "execution_count": 69,
   "metadata": {},
   "outputs": [
    {
     "data": {
      "text/plain": [
       "[({'GRO73461', 'SNA44190', 'SNA80324'},\n",
       "  ['FRO11987', 'ELE17451', 'ELE89019', 'SNA90258', 'GRO99222']),\n",
       " ({'GRO73461', 'SNA44190', 'SNA80324'},\n",
       "  ['GRO99222',\n",
       "   'GRO12298',\n",
       "   'FRO12685',\n",
       "   'ELE91550',\n",
       "   'SNA11465',\n",
       "   'ELE26917',\n",
       "   'ELE52966',\n",
       "   'FRO90334',\n",
       "   'SNA30755',\n",
       "   'ELE17451',\n",
       "   'FRO84225',\n",
       "   'SNA80192']),\n",
       " ({'GRO73461', 'SNA44190', 'SNA80324'},\n",
       "  ['ELE17451', 'GRO73461', 'DAI22896', 'SNA99873', 'FRO86643']),\n",
       " ({'GRO73461', 'SNA44190', 'SNA80324'},\n",
       "  ['ELE17451', 'ELE37798', 'FRO86643', 'GRO56989', 'ELE23393', 'SNA11465']),\n",
       " ({'GRO73461', 'SNA44190', 'SNA80324'},\n",
       "  ['ELE17451',\n",
       "   'SNA69641',\n",
       "   'FRO86643',\n",
       "   'FRO78087',\n",
       "   'SNA11465',\n",
       "   'GRO39357',\n",
       "   'ELE28573',\n",
       "   'ELE11375',\n",
       "   'DAI54444'])]"
      ]
     },
     "execution_count": 69,
     "metadata": {},
     "output_type": "execute_result"
    }
   ],
   "source": [
    "text = textlist\n",
    "suppDict = freqSetDict \n",
    "k = 3\n",
    "n = 5\n",
    "# count support\n",
    "candSetCount22 = _candSet.cartesian(text) \n",
    "candSetCount22.take(5)"
   ]
  },
  {
   "cell_type": "code",
   "execution_count": 74,
   "metadata": {},
   "outputs": [
    {
     "name": "stdout",
     "output_type": "stream",
     "text": [
      "t1 {'SNA80324', 'SNA44190', 'GRO73461'}\n",
      "t2 ['FRO11987', 'ELE17451', 'ELE89019', 'SNA90258', 'GRO99222', 'SNA80324', 'SNA44190', 'GRO73461']\n",
      "true ({'SNA80324', 'SNA44190', 'GRO73461'}, 1)\n"
     ]
    }
   ],
   "source": [
    "def countSupp(item):\n",
    "    t1= item[0]\n",
    "    t2 = item[1]\n",
    "    print(\"t1\",t1)\n",
    "    print(\"t2\",t2)\n",
    "    if t1.issubset(t2):\n",
    "        print(\"true\",(item[0],1))\n",
    "    return None\n",
    "# for x in candSetCount22.take(5):\n",
    "#     countSupp(x)\n",
    "x = ({'SNA80324', 'SNA44190', 'GRO73461'}, ['FRO11987', 'ELE17451', 'ELE89019', 'SNA90258', 'GRO99222','SNA80324', 'SNA44190', 'GRO73461'])\n",
    "countSupp(x)"
   ]
  },
  {
   "cell_type": "code",
   "execution_count": 78,
   "metadata": {},
   "outputs": [
    {
     "data": {
      "text/plain": [
       "[(('SNA80324', 'ELE12792', 'ELE17451'), 55),\n",
       " (('ELE66810', 'ELE32164', 'FRO80039'), 34),\n",
       " (('SNA80324', 'ELE74009', 'GRO30386'), 16),\n",
       " (('SNA80324', 'ELE56788', 'GRO30386'), 15),\n",
       " (('GRO71621', 'DAI85309', 'SNA40784'), 46)]"
      ]
     },
     "execution_count": 78,
     "metadata": {},
     "output_type": "execute_result"
    }
   ],
   "source": [
    "\n",
    "candSetCount  = candSetCount22.map(lambda item: (tuple(item[0]),1) if item[0].issubset(item[1]) else None) \\\n",
    "        .filter(lambda x: x) \\\n",
    "        .reduceByKey(lambda x,y: x+y) \n",
    "candSetCount.take(5)"
   ]
  },
  {
   "cell_type": "code",
   "execution_count": 79,
   "metadata": {},
   "outputs": [
    {
     "data": {
      "text/plain": [
       "[(('DAI75645', 'SNA80324', 'SNA90094'), 231),\n",
       " (('DAI62779', 'GRO15017', 'ELE17451'), 222),\n",
       " (('DAI62779', 'GRO15017', 'ELE26917'), 132),\n",
       " (('FRO78087', 'DAI62779', 'GRO59710'), 114),\n",
       " (('GRO56726', 'DAI62779', 'GRO73461'), 178)]"
      ]
     },
     "execution_count": 79,
     "metadata": {},
     "output_type": "execute_result"
    }
   ],
   "source": [
    "freqSetCount = candSetCount.filter(lambda x: x[1] >= S)\n",
    "freqSetCount.take(5)"
   ]
  },
  {
   "cell_type": "code",
   "execution_count": 81,
   "metadata": {},
   "outputs": [],
   "source": [
    "# update freqSetDict\n",
    "suppDict.update(freqSetCount.collect())"
   ]
  },
  {
   "cell_type": "code",
   "execution_count": 83,
   "metadata": {},
   "outputs": [
    {
     "data": {
      "text/plain": [
       "[('DAI75645', 'SNA80324', 'SNA90094'),\n",
       " ('DAI62779', 'GRO15017', 'ELE17451'),\n",
       " ('DAI62779', 'GRO15017', 'ELE26917'),\n",
       " ('FRO78087', 'DAI62779', 'GRO59710'),\n",
       " ('GRO56726', 'DAI62779', 'GRO73461')]"
      ]
     },
     "execution_count": 83,
     "metadata": {},
     "output_type": "execute_result"
    }
   ],
   "source": [
    "freqSet = freqSetCount.map(lambda x: x[0])\n",
    "freqSet.take(5)"
   ]
  },
  {
   "cell_type": "code",
   "execution_count": 101,
   "metadata": {},
   "outputs": [
    {
     "data": {
      "text/plain": [
       "[('SNA80324SNA90094|DAI75645', 1.5),\n",
       " ('DAI75645SNA90094|SNA80324', 1.0744186046511628),\n",
       " ('DAI75645SNA80324|SNA90094', 0.20442477876106194),\n",
       " ('SNA90094|DAI75645,SNA80324', 0.16618705035971224),\n",
       " ('SNA80324|DAI75645,SNA90094', 0.07588699080157688),\n",
       " ('DAI75645|SNA80324,SNA90094', 0.08442982456140351),\n",
       " ('DAI62779ELE17451|GRO15017', 0.13944723618090452),\n",
       " ('DAI62779GRO15017|ELE17451', 0.5677749360613811),\n",
       " ('ELE17451|DAI62779,GRO15017', 0.05729032258064516),\n",
       " ('DAI62779|GRO15017,ELE17451', 0.03329833508324584),\n",
       " ('GRO15017|DAI62779,ELE17451', 0.17411764705882352),\n",
       " ('DAI62779ELE26917|GRO15017', 0.20307692307692307),\n",
       " ('DAI62779GRO15017|ELE26917', 0.3375959079283887),\n",
       " ('ELE26917|DAI62779,GRO15017', 0.05759162303664921),\n",
       " ('DAI62779|GRO15017,ELE26917', 0.019799010049497526),\n",
       " ('GRO15017|DAI62779,ELE26917', 0.10352941176470588),\n",
       " ('DAI62779GRO59710|FRO78087', 0.20320855614973263),\n",
       " ('FRO78087GRO59710|DAI62779', 0.8507462686567164),\n",
       " ('GRO59710|FRO78087,DAI62779', 0.05688622754491018),\n",
       " ('DAI62779|FRO78087,GRO59710', 0.017099145042747864),\n",
       " ('FRO78087|DAI62779,GRO59710', 0.07446113651208361),\n",
       " ('DAI62779GRO73461|GRO56726', 0.1562774363476734),\n",
       " ('GRO56726GRO73461|DAI62779', 0.5493827160493827),\n",
       " ('GRO73461|GRO56726,DAI62779', 0.049416990560799554),\n",
       " ('DAI62779|GRO56726,GRO73461', 0.026698665066746664),\n",
       " ('GRO56726|DAI62779,GRO73461', 0.09977578475336323),\n",
       " ('DAI62779GRO73461|DAI87448', 0.15452151009657594),\n",
       " ('DAI87448GRO73461|DAI62779', 0.7619047619047619),\n",
       " ('GRO73461|DAI87448,DAI62779', 0.04886174347584675),\n",
       " ('DAI62779|DAI87448,GRO73461', 0.0263986800659967),\n",
       " ('DAI87448|DAI62779,GRO73461', 0.20512820512820512),\n",
       " ('SNA59903SNA72163|ELE17451', 0.4096774193548387),\n",
       " ('ELE17451|SNA59903,SNA72163', 0.0327741935483871),\n",
       " ('SNA72163|SNA59903,ELE17451', 0.11651376146788991),\n",
       " ('SNA59903|SNA72163,ELE17451', 0.1425364758698092),\n",
       " ('DAI62779FRO80039|DAI85309', 0.33454545454545453),\n",
       " ('DAI85309FRO80039|DAI62779', 1.0165745856353592),\n",
       " ('FRO80039|DAI85309,DAI62779', 0.08240035826242723),\n",
       " ('DAI62779|DAI85309,FRO80039', 0.02759862006899655),\n",
       " ('DAI85309|DAI62779,FRO80039', 0.08024422154382904),\n",
       " ('DAI62779ELE17451|SNA59903', 0.12688442211055276),\n",
       " ('ELE17451|SNA59903,DAI62779', 0.05212903225806451),\n",
       " ('DAI62779|SNA59903,ELE17451', 0.03029848507574621),\n",
       " ('SNA59903|DAI62779,ELE17451', 0.22671156004489337),\n",
       " ('DAI75645GRO15017|FRO40251', 0.7456140350877193),\n",
       " ('FRO40251GRO15017|DAI75645', 0.8629441624365483),\n",
       " ('GRO15017|FRO40251,DAI75645', 0.13333333333333333),\n",
       " ('DAI75645|FRO40251,GRO15017', 0.062134502923976605),\n",
       " ('FRO40251|DAI75645,GRO15017', 0.043803143519711416),\n",
       " ('DAI55148DAI62779|FRO40251', 0.3593155893536122)]"
      ]
     },
     "execution_count": 101,
     "metadata": {},
     "output_type": "execute_result"
    }
   ],
   "source": [
    "rules = freqSet.flatMap(lambda x: getAssociationRule(x, suppDict, k))\n",
    "rules.take(50)"
   ]
  },
  {
   "cell_type": "code",
   "execution_count": 94,
   "metadata": {},
   "outputs": [
    {
     "ename": "KeyError",
     "evalue": "('GRO15017', 'ELE17451')",
     "output_type": "error",
     "traceback": [
      "\u001b[0;31m---------------------------------------------------------------------------\u001b[0m",
      "\u001b[0;31mKeyError\u001b[0m                                  Traceback (most recent call last)",
      "\u001b[0;32m<ipython-input-94-386ba34c0268>\u001b[0m in \u001b[0;36m<module>\u001b[0;34m\u001b[0m\n\u001b[0;32m----> 1\u001b[0;31m \u001b[0mfreqSetDict\u001b[0m\u001b[0;34m[\u001b[0m\u001b[0;34m(\u001b[0m\u001b[0;34m'GRO15017'\u001b[0m\u001b[0;34m,\u001b[0m \u001b[0;34m'ELE17451'\u001b[0m\u001b[0;34m)\u001b[0m\u001b[0;34m]\u001b[0m\u001b[0;34m\u001b[0m\u001b[0;34m\u001b[0m\u001b[0m\n\u001b[0m",
      "\u001b[0;31mKeyError\u001b[0m: ('GRO15017', 'ELE17451')"
     ]
    }
   ],
   "source": [
    "freqSetDict[('GRO15017', 'ELE17451')]"
   ]
  },
  {
   "cell_type": "code",
   "execution_count": 102,
   "metadata": {},
   "outputs": [
    {
     "data": {
      "text/plain": [
       "[('DAI22177DAI62779|DAI63921', 0.28272251308900526),\n",
       " ('DAI22177DAI62779|DAI83733', 0.34554973821989526),\n",
       " ('DAI22177DAI62779|ELE17451', 0.6832460732984293),\n",
       " ('DAI22177DAI62779|ELE26917', 0.306282722513089),\n",
       " ('DAI22177DAI62779|FRO80039', 0.306282722513089)]"
      ]
     },
     "execution_count": 102,
     "metadata": {},
     "output_type": "execute_result"
    }
   ],
   "source": [
    "rules.takeOrdered(5 )"
   ]
  },
  {
   "cell_type": "code",
   "execution_count": 103,
   "metadata": {},
   "outputs": [
    {
     "data": {
      "text/plain": [
       "[('GRO85051SNA80324|FRO40251', 3.0),\n",
       " ('DAI88079GRO73461|FRO40251', 2.9793103448275864),\n",
       " ('DAI88079SNA80324|FRO40251', 2.936619718309859),\n",
       " ('DAI23334ELE17451|DAI62779', 2.91),\n",
       " ('ELE99737FRO19221|DAI85309', 2.5037593984962405)]"
      ]
     },
     "execution_count": 103,
     "metadata": {},
     "output_type": "execute_result"
    }
   ],
   "source": [
    "# top 5 pairs\n",
    "newRules = rules.sortBy(lambda t: (-t[1],t[0]))\n",
    "newRules.take(n)"
   ]
  },
  {
   "cell_type": "code",
   "execution_count": 140,
   "metadata": {},
   "outputs": [
    {
     "data": {
      "text/plain": [
       "[{'DAI62779|FRO40251': 0.015899205039748013},\n",
       " {'FRO40251|DAI62779': 0.027312548312290647},\n",
       " {'GRO85051|FRO40251': 0.08237232289950576},\n",
       " {'FRO40251|GRO85051': 0.02576655501159495},\n",
       " {'GRO73461|DAI62779': 0.03053858967240422},\n",
       " {'DAI62779|GRO73461': 0.016499175041247937},\n",
       " {'ELE17451|DAI62779': 0.04490322580645161},\n",
       " {'DAI62779|ELE17451': 0.026098695065246737},\n",
       " {'SNA80324|DAI75645': 0.04040735873850197},\n",
       " {'DAI75645|SNA80324': 0.044956140350877194},\n",
       " {'DAI75645|FRO40251': 0.04641812865497076},\n",
       " {'FRO40251|DAI75645': 0.03272352486472559},\n",
       " {'SNA80324|FRO40251': 0.0519053876478318},\n",
       " {'FRO40251|SNA80324': 0.04071115691832002}]"
      ]
     },
     "execution_count": 140,
     "metadata": {},
     "output_type": "execute_result"
    }
   ],
   "source": [
    "def getKItemRule(prevFreqSet,text, suppDict, k, n):\n",
    "    candSet = prevFreqSet.cartesian(prevFreqSet).filter(lambda x: x[0] < x[1] ) \n",
    "    print(\"candidate set\")\n",
    "    \n",
    "    # count support\n",
    "    candSetCount = candSet.cartesian(text) \\\n",
    "            .map(lambda item: (item[0],1) if set(item[0]).issubset(item[1]) else None) \\\n",
    "            .filter(lambda x: x != None) \\\n",
    "            .reduceByKey(lambda x,y: x+y) \n",
    "    print(\"candSetCount\")\n",
    "    \n",
    "    freqSetCount = candSetCount.filter(lambda x: x[1] >= S)\n",
    "    print(\"freqSetCount\")\n",
    "    \n",
    "    # update freqSetDict\n",
    "    suppDict.update(freqSetCount.collect())\n",
    "    print(\"update freqSetDict\")\n",
    "    \n",
    "    freqSet = freqSetCount.map(lambda x: x[0])\n",
    "    print(\"get freqset\")\n",
    "    \n",
    "    rules = freqSet.flatMap(lambda x: getAssociationRule(x, suppDict, k))\n",
    "    print(\"get rules\")\n",
    "    \n",
    "    # top 5 pairs\n",
    "    newRules = rules.sortBy(lambda t: (-t[1],t[0]))\n",
    "    newRules.take(n)"
   ]
  },
  {
   "cell_type": "code",
   "execution_count": null,
   "metadata": {},
   "outputs": [],
   "source": []
  },
  {
   "cell_type": "code",
   "execution_count": null,
   "metadata": {},
   "outputs": [],
   "source": [
    "getKItemRule(freqSet2, textlist, freqSetDict, 3, 5)"
   ]
  },
  {
   "cell_type": "code",
   "execution_count": 134,
   "metadata": {},
   "outputs": [],
   "source": [
    "a = sc.parallelize([1,2,3,4,5])"
   ]
  },
  {
   "cell_type": "code",
   "execution_count": 135,
   "metadata": {},
   "outputs": [
    {
     "data": {
      "text/plain": [
       "ParallelCollectionRDD[135] at parallelize at PythonRDD.scala:195"
      ]
     },
     "execution_count": 135,
     "metadata": {},
     "output_type": "execute_result"
    }
   ],
   "source": [
    "a"
   ]
  },
  {
   "cell_type": "code",
   "execution_count": 136,
   "metadata": {},
   "outputs": [],
   "source": [
    "b = a"
   ]
  },
  {
   "cell_type": "code",
   "execution_count": 137,
   "metadata": {},
   "outputs": [],
   "source": [
    "a = sc.parallelize([1,8,3,4,9])"
   ]
  },
  {
   "cell_type": "code",
   "execution_count": 141,
   "metadata": {},
   "outputs": [
    {
     "data": {
      "text/plain": [
       "[1, 8, 3, 4, 9]"
      ]
     },
     "execution_count": 141,
     "metadata": {},
     "output_type": "execute_result"
    }
   ],
   "source": [
    "a.collect()"
   ]
  },
  {
   "cell_type": "code",
   "execution_count": 140,
   "metadata": {},
   "outputs": [
    {
     "data": {
      "text/plain": [
       "[1, 2, 3, 4, 5]"
      ]
     },
     "execution_count": 140,
     "metadata": {},
     "output_type": "execute_result"
    }
   ],
   "source": [
    "b.collect()"
   ]
  },
  {
   "cell_type": "code",
   "execution_count": null,
   "metadata": {},
   "outputs": [],
   "source": []
  }
 ],
 "metadata": {
  "kernelspec": {
   "display_name": "Python 3",
   "language": "python",
   "name": "python3"
  },
  "language_info": {
   "codemirror_mode": {
    "name": "ipython",
    "version": 3
   },
   "file_extension": ".py",
   "mimetype": "text/x-python",
   "name": "python",
   "nbconvert_exporter": "python",
   "pygments_lexer": "ipython3",
   "version": "3.7.6"
  }
 },
 "nbformat": 4,
 "nbformat_minor": 2
}
