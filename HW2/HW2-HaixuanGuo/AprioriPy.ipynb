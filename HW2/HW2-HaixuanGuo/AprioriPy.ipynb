{
 "cells": [
  {
   "cell_type": "code",
   "execution_count": 157,
   "metadata": {},
   "outputs": [],
   "source": [
    "import pandas as pd\n",
    "import numpy as np\n",
    "from itertools import chain, combinations\n"
   ]
  },
  {
   "cell_type": "code",
   "execution_count": 29,
   "metadata": {},
   "outputs": [],
   "source": [
    "# from itertools import islice  #  slice set"
   ]
  },
  {
   "cell_type": "markdown",
   "metadata": {},
   "source": [
    "## data process"
   ]
  },
  {
   "cell_type": "code",
   "execution_count": 32,
   "metadata": {},
   "outputs": [],
   "source": [
    "data = pd.read_csv(\"browsing.txt\", header=None)"
   ]
  },
  {
   "cell_type": "code",
   "execution_count": 122,
   "metadata": {},
   "outputs": [],
   "source": [
    "# change data df to [[matrix]]\n",
    "datalist = []\n",
    "for k,v in data.iterrows():\n",
    "    vlist = v[0].split(' ')\n",
    "    datalist.append([i for i in vlist if i])"
   ]
  },
  {
   "cell_type": "code",
   "execution_count": 227,
   "metadata": {},
   "outputs": [],
   "source": [
    "## constant variables\n",
    "S = 100 # min support\n",
    "itemSuppDict = {} # support dictionary for frequent sets \n"
   ]
  },
  {
   "cell_type": "code",
   "execution_count": 187,
   "metadata": {},
   "outputs": [],
   "source": [
    "# generate candidate sets\n",
    "def getCandSet(itemsets, k):\n",
    "    return set([frozenset(set1.union(set2)) for set1 in itemsets for set2 in itemsets if len(set1.union(set2) ) == k])\n",
    "    "
   ]
  },
  {
   "cell_type": "code",
   "execution_count": 163,
   "metadata": {},
   "outputs": [],
   "source": [
    "# Prune non-frequent\n",
    "def getFreqDict(itemCount):\n",
    "    return {key:value for key,value in itemCount.items() if value >= S}"
   ]
  },
  {
   "cell_type": "code",
   "execution_count": 141,
   "metadata": {},
   "outputs": [],
   "source": [
    "# count the support of candidate sets\n",
    "def countSupport(itemsets, transet):\n",
    "    \"\"\"\n",
    "    params itemsets: list\n",
    "    params transet: df, browsing data\n",
    "    return itemsetCount: dict\n",
    "    \"\"\"\n",
    "    itemCount = {}\n",
    "    for item in itemsets:\n",
    "        itemCount[item] = sum([1 for t in transet if item.issubset(t)])\n",
    "    return itemCount\n",
    "        "
   ]
  },
  {
   "cell_type": "code",
   "execution_count": 204,
   "metadata": {},
   "outputs": [],
   "source": [
    "# generate association rules\n",
    "# compute confidence score\n",
    "\n",
    "def subsets(arr):\n",
    "    \"\"\" Returns non empty subsets of arr\"\"\"\n",
    "    return chain(*[combinations(arr, i + 1) for i, a in enumerate(arr)])\n",
    "\n",
    "def getAssociationRule(freqItemset, suppDict,k):\n",
    "    \"\"\"\n",
    "    freqItemset: k-item frequent set\n",
    "    suppDict: itemSuppDict\n",
    "    return rules: Association Rule\n",
    "    \"\"\"\n",
    "    rules = {}\n",
    "    for item in freqItemset:\n",
    "        _subsets = map(frozenset, [x for x in subsets(item) if len(x) < k])\n",
    "        for i in _subsets:\n",
    "            rightItem = i\n",
    "            leftItem = item.difference(rightItem)\n",
    "#             print(suppDict[item])\n",
    "#             print(suppDict[leftItem])\n",
    "            conf = suppDict[item]/suppDict[leftItem]\n",
    "            r = ','.join(leftItem) + '|' + ','.join(rightItem)\n",
    "            rules[r] = conf\n",
    "    return rules\n",
    "            "
   ]
  },
  {
   "cell_type": "code",
   "execution_count": 219,
   "metadata": {},
   "outputs": [],
   "source": [
    "def getTopRule(rules, n):\n",
    "    \"\"\"\n",
    "    params rules: {rule:conf}\n",
    "    n: top n\n",
    "    return top n rules\n",
    "    \"\"\"\n",
    "    sortRules = sorted(rules.items(), key=lambda item: (-item[1],item[0]))\n",
    "    return {k[0]:k[1] for k in list(sortRules)[:n]}\n",
    "    "
   ]
  },
  {
   "cell_type": "markdown",
   "metadata": {},
   "source": [
    "## k = 1"
   ]
  },
  {
   "cell_type": "code",
   "execution_count": 127,
   "metadata": {},
   "outputs": [],
   "source": [
    "# k = 1\n",
    "candSet1 = set()\n",
    "for d in datalist:\n",
    "    for i in d:\n",
    "        candSet1.add(frozenset([i]))\n"
   ]
  },
  {
   "cell_type": "code",
   "execution_count": 142,
   "metadata": {},
   "outputs": [],
   "source": [
    "candSetSupp1 = countSupport(candSet1, datalist)"
   ]
  },
  {
   "cell_type": "code",
   "execution_count": 144,
   "metadata": {},
   "outputs": [],
   "source": [
    "freqSet1 = getFreqSet(candSetSupp1)"
   ]
  },
  {
   "cell_type": "code",
   "execution_count": 164,
   "metadata": {},
   "outputs": [],
   "source": [
    "freqSetDict1 = getFreqDict(candSetSupp1)"
   ]
  },
  {
   "cell_type": "code",
   "execution_count": 228,
   "metadata": {},
   "outputs": [],
   "source": [
    "# update itemSuppDict\n",
    "itemSuppDict.update(freqSetDict1)"
   ]
  },
  {
   "cell_type": "markdown",
   "metadata": {},
   "source": [
    "# k = 2\n"
   ]
  },
  {
   "cell_type": "code",
   "execution_count": 152,
   "metadata": {},
   "outputs": [],
   "source": [
    "# k = 2\n",
    "candSet2 = getCandSet(freqSet1,2)"
   ]
  },
  {
   "cell_type": "code",
   "execution_count": 155,
   "metadata": {},
   "outputs": [],
   "source": [
    "candSetCount2 = countSupport(candSet2, datalist)"
   ]
  },
  {
   "cell_type": "code",
   "execution_count": 167,
   "metadata": {},
   "outputs": [],
   "source": [
    "freqSetDict2 = getFreqDict(candSetCount2)"
   ]
  },
  {
   "cell_type": "code",
   "execution_count": 168,
   "metadata": {},
   "outputs": [],
   "source": [
    "# update itemSuppDict\n",
    "itemSuppDict.update(freqSetDict2)"
   ]
  },
  {
   "cell_type": "code",
   "execution_count": 221,
   "metadata": {},
   "outputs": [],
   "source": [
    "freqSet2 = freqSetDict2.keys()"
   ]
  },
  {
   "cell_type": "code",
   "execution_count": 223,
   "metadata": {},
   "outputs": [],
   "source": [
    "rules2 = getAssociationRule(freqSet2,itemSuppDict,2 )"
   ]
  },
  {
   "cell_type": "code",
   "execution_count": 226,
   "metadata": {},
   "outputs": [
    {
     "data": {
      "text/plain": [
       "{'DAI93865|FRO40251': 1.0,\n",
       " 'GRO85051|FRO40251': 0.999176276771005,\n",
       " 'GRO38636|FRO40251': 0.9906542056074766,\n",
       " 'ELE12951|FRO40251': 0.9905660377358491,\n",
       " 'DAI88079|FRO40251': 0.9867256637168141}"
      ]
     },
     "execution_count": 226,
     "metadata": {},
     "output_type": "execute_result"
    }
   ],
   "source": [
    "getTopRule(rules2,5)"
   ]
  },
  {
   "cell_type": "markdown",
   "metadata": {},
   "source": [
    "# k = 3\n"
   ]
  },
  {
   "cell_type": "code",
   "execution_count": 188,
   "metadata": {},
   "outputs": [],
   "source": [
    "# k = 3\n",
    "def getKItemRule(prevFreqSet, suppDict, k, n):\n",
    "    \"\"\"\n",
    "    prevFreqSet: previous frequent set\n",
    "    suppDict: itemSuppDict\n",
    "    k: k-item\n",
    "    n: top n rules\n",
    "    \"\"\"\n",
    "    candSet = getCandSet(prevFreqSet,k)\n",
    "    candSetCount = countSupport(candSet, datalist)\n",
    "    freqSetDict = getFreqDict(candSetCount)\n",
    "    # update itemSuppDict\n",
    "    suppDict.update(freqSetDict)\n",
    "    freqSet = freqSetDict3.keys() \n",
    "    rules = getAssociationRule(freqSet,suppDict,k)\n",
    "    print(getTopRule(rules,n))\n",
    "    "
   ]
  },
  {
   "cell_type": "code",
   "execution_count": 190,
   "metadata": {},
   "outputs": [],
   "source": [
    "getKItemRule(freqSet2, itemSuppDict, 3, 5)"
   ]
  },
  {
   "cell_type": "code",
   "execution_count": 220,
   "metadata": {},
   "outputs": [
    {
     "data": {
      "text/plain": [
       "{'DAI23334,ELE92920|DAI62779': 1.0,\n",
       " 'DAI62779,DAI88079|FRO40251': 1.0,\n",
       " 'DAI75645,GRO85051|FRO40251': 1.0,\n",
       " 'FRO92469,ELE20847|FRO40251': 1.0,\n",
       " 'GRO73461,GRO85051|FRO40251': 1.0,\n",
       " 'GRO85051,DAI31081|FRO40251': 1.0,\n",
       " 'GRO85051,DAI55911|FRO40251': 1.0,\n",
       " 'GRO85051,ELE17451|FRO40251': 1.0,\n",
       " 'GRO85051,ELE20847|FRO40251': 1.0,\n",
       " 'GRO85051,ELE26917|FRO40251': 1.0}"
      ]
     },
     "execution_count": 220,
     "metadata": {},
     "output_type": "execute_result"
    }
   ],
   "source": []
  }
 ],
 "metadata": {
  "kernelspec": {
   "display_name": "Python 3",
   "language": "python",
   "name": "python3"
  },
  "language_info": {
   "codemirror_mode": {
    "name": "ipython",
    "version": 3
   },
   "file_extension": ".py",
   "mimetype": "text/x-python",
   "name": "python",
   "nbconvert_exporter": "python",
   "pygments_lexer": "ipython3",
   "version": "3.7.6"
  }
 },
 "nbformat": 4,
 "nbformat_minor": 2
}
