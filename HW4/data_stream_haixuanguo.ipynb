{
 "cells": [
  {
   "cell_type": "code",
   "execution_count": 1,
   "metadata": {},
   "outputs": [],
   "source": [
    "import numpy as np\n",
    "from math import exp\n",
    "from collections import defaultdict\n",
    "import matplotlib.pyplot as plt"
   ]
  },
  {
   "cell_type": "code",
   "execution_count": 2,
   "metadata": {},
   "outputs": [],
   "source": [
    "from pyspark import SparkContext\n",
    "from pyspark import SparkConf\n",
    "\n",
    "conf = SparkConf().setAppName(\"data_stream\")\n",
    "sc = SparkContext(conf=conf)"
   ]
  },
  {
   "cell_type": "code",
   "execution_count": 3,
   "metadata": {},
   "outputs": [],
   "source": [
    "P = 123457\n",
    "delta = exp(-5)\n",
    "epsilon = exp(10**(-4))\n",
    "n_buckets = 10**4\n",
    "hash_params = [list(map(int, line.strip().split('\\t'))) for line in open('hash_params.txt')]\n",
    "n_hashes = len(hash_params)"
   ]
  },
  {
   "cell_type": "markdown",
   "metadata": {},
   "source": [
    "## Main algorithm"
   ]
  },
  {
   "cell_type": "code",
   "execution_count": 10,
   "metadata": {},
   "outputs": [],
   "source": [
    "# your code here\n",
    "buckets = np.zeros((n_hashes, n_buckets))"
   ]
  },
  {
   "cell_type": "code",
   "execution_count": 5,
   "metadata": {},
   "outputs": [],
   "source": [
    "# your code here\n",
    "# hash function\n",
    "\n",
    "# Returns hash(x) for hash function given by parameters a, b, p and n buckets \n",
    "def hash_func(a,b,p,n,x):\n",
    "    a = int(a)\n",
    "    b = int(b)\n",
    "    x = int(x)\n",
    "    y = x % p\n",
    "    val = (a*y + b)%p\n",
    "    return val % n\n",
    "\n",
    "def hash_x(x, p, n, params):\n",
    "    hash_l = []\n",
    "    for idx, l in enumerate(params):\n",
    "        a,b = l\n",
    "        val = hash_func(a,b, p, n, x)\n",
    "        hash_l.append((idx,val))\n",
    "    return hash_l"
   ]
  },
  {
   "cell_type": "code",
   "execution_count": 6,
   "metadata": {},
   "outputs": [],
   "source": [
    "# read steaming data\n",
    "data = sc.textFile('data_stream.txt')"
   ]
  },
  {
   "cell_type": "code",
   "execution_count": 7,
   "metadata": {},
   "outputs": [],
   "source": [
    "# count hash value\n",
    "hash_count = data.flatMap(lambda x: hash_x(x,P, n_buckets,hash_params)).map(lambda x: (x,1)).reduceByKey(lambda x,y: x+y)"
   ]
  },
  {
   "cell_type": "code",
   "execution_count": 27,
   "metadata": {
    "scrolled": true
   },
   "outputs": [],
   "source": [
    "for k,v in hash_count.collect():\n",
    "    nh, nb = k\n",
    "    buckets[nh][nb] = v"
   ]
  },
  {
   "cell_type": "markdown",
   "metadata": {},
   "source": [
    "## Compare the exact and approximate counts"
   ]
  },
  {
   "cell_type": "code",
   "execution_count": 29,
   "metadata": {},
   "outputs": [],
   "source": [
    "# read the exact counts\n",
    "exact_counts = defaultdict(int)\n",
    "with open('counts.txt') as f:\n",
    "    for line in f:\n",
    "        key, value = line.strip().split('\\t')\n",
    "        exact_counts[int(key)] = int(value)"
   ]
  },
  {
   "cell_type": "code",
   "execution_count": 30,
   "metadata": {},
   "outputs": [],
   "source": [
    "# to do\n",
    "# get approximate count of each sample\n",
    "approx_counts = defaultdict(int)\n",
    "# your code here\n",
    "for k, v in exact_counts.items():\n",
    "    hash_k = hash_x(k,P, n_buckets,hash_params)\n",
    "    approx_val = min(buckets[h] for h in hash_k)\n",
    "    approx_counts[k] = approx_val\n",
    "  "
   ]
  },
  {
   "cell_type": "markdown",
   "metadata": {},
   "source": [
    "\"\"\"\n",
    "Log-log plot of the relative error as a function of the frequency\n",
    "\"\"\""
   ]
  },
  {
   "cell_type": "code",
   "execution_count": 35,
   "metadata": {},
   "outputs": [
    {
     "data": {
      "image/png": "[encoded data removed]",
      "text/plain": [
       "<Figure size 432x288 with 1 Axes>"
      ]
     },
     "metadata": {
      "needs_background": "light"
     },
     "output_type": "display_data"
    },
    {
     "data": {
      "text/plain": [
       "<Figure size 432x288 with 0 Axes>"
      ]
     },
     "metadata": {},
     "output_type": "display_data"
    }
   ],
   "source": [
    "def plot_error_hist(exact_freq,error,n_hashes,n_buckets):    \n",
    "    plt.hist(np.log10(error),np.sqrt(len(error)),'b.')\n",
    "    plt.title('n_hashes = ' + str(n_hashes) + ', n_buckets = 3*10^' + str(n_buckets))\n",
    "\n",
    "def plot_error_evol(exact_freq,error,n_hashes,n_buckets):\n",
    "    plt.plot(exact_freq,error,'b.')\n",
    "    plt.xscale('log')\n",
    "    plt.yscale('log')\n",
    "    plt.title('n_hashes = ' + str(n_hashes) + ', n_buckets = 10^' + str(n_buckets))\n",
    "    plt.xlabel('word frequency')\n",
    "    plt.ylabel('Relative error between estimated and actual frequencies')\n",
    "\n",
    "\n",
    "total_counts = sum(exact_counts.values())\n",
    "exact_freq = [exact_counts[k]*1./total_counts for k in exact_counts.keys()]\n",
    "idx_subplot = 0 # in case one wants to make subplots\n",
    "subplots_idx = [1,2,3,0] # same use case\n",
    "for n_hash in [5]:\n",
    "    for n_buckets in [4]:        \n",
    "        errors = [abs(exact_counts[k] - approx_counts[k])*1./exact_counts[k] for k in exact_counts.keys() ]\n",
    "        plot_error_evol(exact_freq,errors,n_hash,n_buckets)\n",
    "        idx_subplot += 1\n",
    "\n",
    "plt.show()\n",
    "plt.savefig(\"log.png\")"
   ]
  },
  {
   "cell_type": "code",
   "execution_count": 31,
   "metadata": {},
   "outputs": [
    {
     "name": "stdout",
     "output_type": "stream",
     "text": [
      "Top 10 most frequent IDs\n",
      "ID, approximate count, exact count\n",
      "(6, 244670.0, 244629)\n",
      "(9, 201996.0, 201955)\n",
      "(13, 174050.0, 174015)\n",
      "(3, 142894.0, 142857)\n",
      "(90, 113021.0, 113006)\n",
      "(25, 101991.0, 101951)\n",
      "(34, 86193.0, 86158)\n",
      "(161, 72129.0, 72113)\n",
      "(23, 60770.0, 60742)\n",
      "(196, 60390.0, 60353)\n"
     ]
    }
   ],
   "source": [
    "# print the approximate  and  exact  counts  of  the  top  10  most and least frequent  IDs.\n",
    "# your code here\n",
    "\n",
    "exact_counts_desc = sorted(exact_counts.items(), key = lambda x: -x[1])\n",
    "\n",
    "print(\"Top 10 most frequent IDs\")\n",
    "print(\"ID,\", \"approximate count,\", \"exact count\")\n",
    "for k, v in exact_counts_desc[:10]:\n",
    "    print((k, approx_counts[k], v ))"
   ]
  },
  {
   "cell_type": "code",
   "execution_count": 33,
   "metadata": {},
   "outputs": [
    {
     "name": "stdout",
     "output_type": "stream",
     "text": [
      "Top 10 least frequent IDs\n",
      "ID, approximate count, exact count\n",
      "(91, 36.0, 1)\n",
      "(101, 28.0, 1)\n",
      "(105, 35.0, 1)\n",
      "(137, 36.0, 1)\n",
      "(142, 28.0, 1)\n",
      "(164, 35.0, 1)\n",
      "(190, 27.0, 1)\n",
      "(209, 18.0, 1)\n",
      "(225, 18.0, 1)\n",
      "(317, 44.0, 1)\n"
     ]
    }
   ],
   "source": [
    "exact_counts_asc = sorted(exact_counts.items(), key = lambda x: x[1])\n",
    "\n",
    "print(\"Top 10 least frequent IDs\")\n",
    "print(\"ID,\", \"approximate count,\", \"exact count\")\n",
    "for k, v in exact_counts_asc[:10]:\n",
    "    print((k, approx_counts[k], v ))"
   ]
  },
  {
   "cell_type": "code",
   "execution_count": 13,
   "metadata": {},
   "outputs": [
    {
     "data": {
      "text/plain": [
       "[((0, 1564), 24203),\n",
       " ((2, 432), 24135),\n",
       " ((4, 324), 24551),\n",
       " ((1, 311), 4108),\n",
       " ((2, 470), 4155)]"
      ]
     },
     "execution_count": 13,
     "metadata": {},
     "output_type": "execute_result"
    }
   ],
   "source": [
    "hash_count.take(5)"
   ]
  },
  {
   "cell_type": "code",
   "execution_count": null,
   "metadata": {},
   "outputs": [],
   "source": []
  }
 ],
 "metadata": {
  "kernelspec": {
   "display_name": "Python 3",
   "language": "python",
   "name": "python3"
  },
  "language_info": {
   "codemirror_mode": {
    "name": "ipython",
    "version": 3
   },
   "file_extension": ".py",
   "mimetype": "text/x-python",
   "name": "python",
   "nbconvert_exporter": "python",
   "pygments_lexer": "ipython3",
   "version": "3.7.6"
  }
 },
 "nbformat": 4,
 "nbformat_minor": 2
}
